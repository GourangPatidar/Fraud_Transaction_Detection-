{
  "nbformat": 4,
  "nbformat_minor": 0,
  "metadata": {
    "colab": {
      "provenance": []
    },
    "kernelspec": {
      "name": "python3",
      "display_name": "Python 3"
    },
    "language_info": {
      "name": "python"
    }
  },
  "cells": [
    {
      "cell_type": "markdown",
      "source": [
        "# **` Fraud Detection and Actionable Insights: Leveraging Predictive Modeling for Financial Security`**\n",
        "\n",
        "\n",
        "\n"
      ],
      "metadata": {
        "id": "FzJESJbTnkgu"
      }
    },
    {
      "cell_type": "markdown",
      "source": [
        "![fraud-alert-caution-defend-guard-260nw-412668235.webp](data:image/webp;base64,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)"
      ],
      "metadata": {
        "id": "t0nuRHvdmTWO"
      }
    },
    {
      "cell_type": "markdown",
      "source": [
        "# 1.   Importing the necessary libraries\n",
        "\n"
      ],
      "metadata": {
        "id": "KZT9Sk-vqbmm"
      }
    },
    {
      "cell_type": "code",
      "execution_count": 1,
      "metadata": {
        "id": "NdvaqJox2S-G"
      },
      "outputs": [],
      "source": [
        "import numpy as np\n",
        "import pandas as pd\n",
        "import matplotlib.pyplot as plt\n",
        "import seaborn as sns\n",
        "import warnings\n",
        "warnings.filterwarnings('ignore')"
      ]
    },
    {
      "cell_type": "markdown",
      "source": [
        "# 2. Collecting the Data"
      ],
      "metadata": {
        "id": "A2vehj3KtcK_"
      }
    },
    {
      "cell_type": "markdown",
      "source": [
        "DATASET LINK (for local machine): https://www.kaggle.com/datasets/chitwanmanchanda/fraudulent-transactions-data"
      ],
      "metadata": {
        "id": "GVNnmadvJKOR"
      }
    },
    {
      "cell_type": "code",
      "source": [
        "from google.colab import drive\n",
        "drive.mount('/content/drive')\n"
      ],
      "metadata": {
        "colab": {
          "base_uri": "https://localhost:8080/"
        },
        "id": "cfvzFbD_2jHt",
        "outputId": "5f7abdb1-d230-426f-b51b-b1f20e29a106"
      },
      "execution_count": 2,
      "outputs": [
        {
          "output_type": "stream",
          "name": "stdout",
          "text": [
            "Drive already mounted at /content/drive; to attempt to forcibly remount, call drive.mount(\"/content/drive\", force_remount=True).\n"
          ]
        }
      ]
    },
    {
      "cell_type": "code",
      "source": [
        "data =pd.read_csv(\"/content/drive/MyDrive/Fraud.csv\")"
      ],
      "metadata": {
        "id": "kIXfRU5_4IMN"
      },
      "execution_count": 3,
      "outputs": []
    },
    {
      "cell_type": "code",
      "source": [
        "data"
      ],
      "metadata": {
        "colab": {
          "base_uri": "https://localhost:8080/",
          "height": 443
        },
        "id": "MlukuhyA4POt",
        "outputId": "67a36e0d-fd30-4552-f256-9bb0e4ab07ff"
      },
      "execution_count": 4,
      "outputs": [
        {
          "output_type": "execute_result",
          "data": {
            "text/plain": [
              "         step      type      amount     nameOrig  oldbalanceOrg  \\\n",
              "0           1   PAYMENT     9839.64  C1231006815      170136.00   \n",
              "1           1   PAYMENT     1864.28  C1666544295       21249.00   \n",
              "2           1  TRANSFER      181.00  C1305486145         181.00   \n",
              "3           1  CASH_OUT      181.00   C840083671         181.00   \n",
              "4           1   PAYMENT    11668.14  C2048537720       41554.00   \n",
              "...       ...       ...         ...          ...            ...   \n",
              "6362615   743  CASH_OUT   339682.13   C786484425      339682.13   \n",
              "6362616   743  TRANSFER  6311409.28  C1529008245     6311409.28   \n",
              "6362617   743  CASH_OUT  6311409.28  C1162922333     6311409.28   \n",
              "6362618   743  TRANSFER   850002.52  C1685995037      850002.52   \n",
              "6362619   743  CASH_OUT   850002.52  C1280323807      850002.52   \n",
              "\n",
              "         newbalanceOrig     nameDest  oldbalanceDest  newbalanceDest  isFraud  \\\n",
              "0             160296.36  M1979787155            0.00            0.00        0   \n",
              "1              19384.72  M2044282225            0.00            0.00        0   \n",
              "2                  0.00   C553264065            0.00            0.00        1   \n",
              "3                  0.00    C38997010        21182.00            0.00        1   \n",
              "4              29885.86  M1230701703            0.00            0.00        0   \n",
              "...                 ...          ...             ...             ...      ...   \n",
              "6362615            0.00   C776919290            0.00       339682.13        1   \n",
              "6362616            0.00  C1881841831            0.00            0.00        1   \n",
              "6362617            0.00  C1365125890        68488.84      6379898.11        1   \n",
              "6362618            0.00  C2080388513            0.00            0.00        1   \n",
              "6362619            0.00   C873221189      6510099.11      7360101.63        1   \n",
              "\n",
              "         isFlaggedFraud  \n",
              "0                     0  \n",
              "1                     0  \n",
              "2                     0  \n",
              "3                     0  \n",
              "4                     0  \n",
              "...                 ...  \n",
              "6362615               0  \n",
              "6362616               0  \n",
              "6362617               0  \n",
              "6362618               0  \n",
              "6362619               0  \n",
              "\n",
              "[6362620 rows x 11 columns]"
            ],
            "text/html": [
              "\n",
              "  <div id=\"df-9c58fb91-a56c-44ba-a21a-230fb563ab77\" class=\"colab-df-container\">\n",
              "    <div>\n",
              "<style scoped>\n",
              "    .dataframe tbody tr th:only-of-type {\n",
              "        vertical-align: middle;\n",
              "    }\n",
              "\n",
              "    .dataframe tbody tr th {\n",
              "        vertical-align: top;\n",
              "    }\n",
              "\n",
              "    .dataframe thead th {\n",
              "        text-align: right;\n",
              "    }\n",
              "</style>\n",
              "<table border=\"1\" class=\"dataframe\">\n",
              "  <thead>\n",
              "    <tr style=\"text-align: right;\">\n",
              "      <th></th>\n",
              "      <th>step</th>\n",
              "      <th>type</th>\n",
              "      <th>amount</th>\n",
              "      <th>nameOrig</th>\n",
              "      <th>oldbalanceOrg</th>\n",
              "      <th>newbalanceOrig</th>\n",
              "      <th>nameDest</th>\n",
              "      <th>oldbalanceDest</th>\n",
              "      <th>newbalanceDest</th>\n",
              "      <th>isFraud</th>\n",
              "      <th>isFlaggedFraud</th>\n",
              "    </tr>\n",
              "  </thead>\n",
              "  <tbody>\n",
              "    <tr>\n",
              "      <th>0</th>\n",
              "      <td>1</td>\n",
              "      <td>PAYMENT</td>\n",
              "      <td>9839.64</td>\n",
              "      <td>C1231006815</td>\n",
              "      <td>170136.00</td>\n",
              "      <td>160296.36</td>\n",
              "      <td>M1979787155</td>\n",
              "      <td>0.00</td>\n",
              "      <td>0.00</td>\n",
              "      <td>0</td>\n",
              "      <td>0</td>\n",
              "    </tr>\n",
              "    <tr>\n",
              "      <th>1</th>\n",
              "      <td>1</td>\n",
              "      <td>PAYMENT</td>\n",
              "      <td>1864.28</td>\n",
              "      <td>C1666544295</td>\n",
              "      <td>21249.00</td>\n",
              "      <td>19384.72</td>\n",
              "      <td>M2044282225</td>\n",
              "      <td>0.00</td>\n",
              "      <td>0.00</td>\n",
              "      <td>0</td>\n",
              "      <td>0</td>\n",
              "    </tr>\n",
              "    <tr>\n",
              "      <th>2</th>\n",
              "      <td>1</td>\n",
              "      <td>TRANSFER</td>\n",
              "      <td>181.00</td>\n",
              "      <td>C1305486145</td>\n",
              "      <td>181.00</td>\n",
              "      <td>0.00</td>\n",
              "      <td>C553264065</td>\n",
              "      <td>0.00</td>\n",
              "      <td>0.00</td>\n",
              "      <td>1</td>\n",
              "      <td>0</td>\n",
              "    </tr>\n",
              "    <tr>\n",
              "      <th>3</th>\n",
              "      <td>1</td>\n",
              "      <td>CASH_OUT</td>\n",
              "      <td>181.00</td>\n",
              "      <td>C840083671</td>\n",
              "      <td>181.00</td>\n",
              "      <td>0.00</td>\n",
              "      <td>C38997010</td>\n",
              "      <td>21182.00</td>\n",
              "      <td>0.00</td>\n",
              "      <td>1</td>\n",
              "      <td>0</td>\n",
              "    </tr>\n",
              "    <tr>\n",
              "      <th>4</th>\n",
              "      <td>1</td>\n",
              "      <td>PAYMENT</td>\n",
              "      <td>11668.14</td>\n",
              "      <td>C2048537720</td>\n",
              "      <td>41554.00</td>\n",
              "      <td>29885.86</td>\n",
              "      <td>M1230701703</td>\n",
              "      <td>0.00</td>\n",
              "      <td>0.00</td>\n",
              "      <td>0</td>\n",
              "      <td>0</td>\n",
              "    </tr>\n",
              "    <tr>\n",
              "      <th>...</th>\n",
              "      <td>...</td>\n",
              "      <td>...</td>\n",
              "      <td>...</td>\n",
              "      <td>...</td>\n",
              "      <td>...</td>\n",
              "      <td>...</td>\n",
              "      <td>...</td>\n",
              "      <td>...</td>\n",
              "      <td>...</td>\n",
              "      <td>...</td>\n",
              "      <td>...</td>\n",
              "    </tr>\n",
              "    <tr>\n",
              "      <th>6362615</th>\n",
              "      <td>743</td>\n",
              "      <td>CASH_OUT</td>\n",
              "      <td>339682.13</td>\n",
              "      <td>C786484425</td>\n",
              "      <td>339682.13</td>\n",
              "      <td>0.00</td>\n",
              "      <td>C776919290</td>\n",
              "      <td>0.00</td>\n",
              "      <td>339682.13</td>\n",
              "      <td>1</td>\n",
              "      <td>0</td>\n",
              "    </tr>\n",
              "    <tr>\n",
              "      <th>6362616</th>\n",
              "      <td>743</td>\n",
              "      <td>TRANSFER</td>\n",
              "      <td>6311409.28</td>\n",
              "      <td>C1529008245</td>\n",
              "      <td>6311409.28</td>\n",
              "      <td>0.00</td>\n",
              "      <td>C1881841831</td>\n",
              "      <td>0.00</td>\n",
              "      <td>0.00</td>\n",
              "      <td>1</td>\n",
              "      <td>0</td>\n",
              "    </tr>\n",
              "    <tr>\n",
              "      <th>6362617</th>\n",
              "      <td>743</td>\n",
              "      <td>CASH_OUT</td>\n",
              "      <td>6311409.28</td>\n",
              "      <td>C1162922333</td>\n",
              "      <td>6311409.28</td>\n",
              "      <td>0.00</td>\n",
              "      <td>C1365125890</td>\n",
              "      <td>68488.84</td>\n",
              "      <td>6379898.11</td>\n",
              "      <td>1</td>\n",
              "      <td>0</td>\n",
              "    </tr>\n",
              "    <tr>\n",
              "      <th>6362618</th>\n",
              "      <td>743</td>\n",
              "      <td>TRANSFER</td>\n",
              "      <td>850002.52</td>\n",
              "      <td>C1685995037</td>\n",
              "      <td>850002.52</td>\n",
              "      <td>0.00</td>\n",
              "      <td>C2080388513</td>\n",
              "      <td>0.00</td>\n",
              "      <td>0.00</td>\n",
              "      <td>1</td>\n",
              "      <td>0</td>\n",
              "    </tr>\n",
              "    <tr>\n",
              "      <th>6362619</th>\n",
              "      <td>743</td>\n",
              "      <td>CASH_OUT</td>\n",
              "      <td>850002.52</td>\n",
              "      <td>C1280323807</td>\n",
              "      <td>850002.52</td>\n",
              "      <td>0.00</td>\n",
              "      <td>C873221189</td>\n",
              "      <td>6510099.11</td>\n",
              "      <td>7360101.63</td>\n",
              "      <td>1</td>\n",
              "      <td>0</td>\n",
              "    </tr>\n",
              "  </tbody>\n",
              "</table>\n",
              "<p>6362620 rows × 11 columns</p>\n",
              "</div>\n",
              "    <div class=\"colab-df-buttons\">\n",
              "\n",
              "  <div class=\"colab-df-container\">\n",
              "    <button class=\"colab-df-convert\" onclick=\"convertToInteractive('df-9c58fb91-a56c-44ba-a21a-230fb563ab77')\"\n",
              "            title=\"Convert this dataframe to an interactive table.\"\n",
              "            style=\"display:none;\">\n",
              "\n",
              "  <svg xmlns=\"http://www.w3.org/2000/svg\" height=\"24px\" viewBox=\"0 -960 960 960\">\n",
              "    <path d=\"M120-120v-720h720v720H120Zm60-500h600v-160H180v160Zm220 220h160v-160H400v160Zm0 220h160v-160H400v160ZM180-400h160v-160H180v160Zm440 0h160v-160H620v160ZM180-180h160v-160H180v160Zm440 0h160v-160H620v160Z\"/>\n",
              "  </svg>\n",
              "    </button>\n",
              "\n",
              "  <style>\n",
              "    .colab-df-container {\n",
              "      display:flex;\n",
              "      gap: 12px;\n",
              "    }\n",
              "\n",
              "    .colab-df-convert {\n",
              "      background-color: #E8F0FE;\n",
              "      border: none;\n",
              "      border-radius: 50%;\n",
              "      cursor: pointer;\n",
              "      display: none;\n",
              "      fill: #1967D2;\n",
              "      height: 32px;\n",
              "      padding: 0 0 0 0;\n",
              "      width: 32px;\n",
              "    }\n",
              "\n",
              "    .colab-df-convert:hover {\n",
              "      background-color: #E2EBFA;\n",
              "      box-shadow: 0px 1px 2px rgba(60, 64, 67, 0.3), 0px 1px 3px 1px rgba(60, 64, 67, 0.15);\n",
              "      fill: #174EA6;\n",
              "    }\n",
              "\n",
              "    .colab-df-buttons div {\n",
              "      margin-bottom: 4px;\n",
              "    }\n",
              "\n",
              "    [theme=dark] .colab-df-convert {\n",
              "      background-color: #3B4455;\n",
              "      fill: #D2E3FC;\n",
              "    }\n",
              "\n",
              "    [theme=dark] .colab-df-convert:hover {\n",
              "      background-color: #434B5C;\n",
              "      box-shadow: 0px 1px 3px 1px rgba(0, 0, 0, 0.15);\n",
              "      filter: drop-shadow(0px 1px 2px rgba(0, 0, 0, 0.3));\n",
              "      fill: #FFFFFF;\n",
              "    }\n",
              "  </style>\n",
              "\n",
              "    <script>\n",
              "      const buttonEl =\n",
              "        document.querySelector('#df-9c58fb91-a56c-44ba-a21a-230fb563ab77 button.colab-df-convert');\n",
              "      buttonEl.style.display =\n",
              "        google.colab.kernel.accessAllowed ? 'block' : 'none';\n",
              "\n",
              "      async function convertToInteractive(key) {\n",
              "        const element = document.querySelector('#df-9c58fb91-a56c-44ba-a21a-230fb563ab77');\n",
              "        const dataTable =\n",
              "          await google.colab.kernel.invokeFunction('convertToInteractive',\n",
              "                                                    [key], {});\n",
              "        if (!dataTable) return;\n",
              "\n",
              "        const docLinkHtml = 'Like what you see? Visit the ' +\n",
              "          '<a target=\"_blank\" href=https://colab.research.google.com/notebooks/data_table.ipynb>data table notebook</a>'\n",
              "          + ' to learn more about interactive tables.';\n",
              "        element.innerHTML = '';\n",
              "        dataTable['output_type'] = 'display_data';\n",
              "        await google.colab.output.renderOutput(dataTable, element);\n",
              "        const docLink = document.createElement('div');\n",
              "        docLink.innerHTML = docLinkHtml;\n",
              "        element.appendChild(docLink);\n",
              "      }\n",
              "    </script>\n",
              "  </div>\n",
              "\n",
              "\n",
              "<div id=\"df-8b6c0bad-1ca1-4cf0-a373-90883ba3738c\">\n",
              "  <button class=\"colab-df-quickchart\" onclick=\"quickchart('df-8b6c0bad-1ca1-4cf0-a373-90883ba3738c')\"\n",
              "            title=\"Suggest charts\"\n",
              "            style=\"display:none;\">\n",
              "\n",
              "<svg xmlns=\"http://www.w3.org/2000/svg\" height=\"24px\"viewBox=\"0 0 24 24\"\n",
              "     width=\"24px\">\n",
              "    <g>\n",
              "        <path d=\"M19 3H5c-1.1 0-2 .9-2 2v14c0 1.1.9 2 2 2h14c1.1 0 2-.9 2-2V5c0-1.1-.9-2-2-2zM9 17H7v-7h2v7zm4 0h-2V7h2v10zm4 0h-2v-4h2v4z\"/>\n",
              "    </g>\n",
              "</svg>\n",
              "  </button>\n",
              "\n",
              "<style>\n",
              "  .colab-df-quickchart {\n",
              "      --bg-color: #E8F0FE;\n",
              "      --fill-color: #1967D2;\n",
              "      --hover-bg-color: #E2EBFA;\n",
              "      --hover-fill-color: #174EA6;\n",
              "      --disabled-fill-color: #AAA;\n",
              "      --disabled-bg-color: #DDD;\n",
              "  }\n",
              "\n",
              "  [theme=dark] .colab-df-quickchart {\n",
              "      --bg-color: #3B4455;\n",
              "      --fill-color: #D2E3FC;\n",
              "      --hover-bg-color: #434B5C;\n",
              "      --hover-fill-color: #FFFFFF;\n",
              "      --disabled-bg-color: #3B4455;\n",
              "      --disabled-fill-color: #666;\n",
              "  }\n",
              "\n",
              "  .colab-df-quickchart {\n",
              "    background-color: var(--bg-color);\n",
              "    border: none;\n",
              "    border-radius: 50%;\n",
              "    cursor: pointer;\n",
              "    display: none;\n",
              "    fill: var(--fill-color);\n",
              "    height: 32px;\n",
              "    padding: 0;\n",
              "    width: 32px;\n",
              "  }\n",
              "\n",
              "  .colab-df-quickchart:hover {\n",
              "    background-color: var(--hover-bg-color);\n",
              "    box-shadow: 0 1px 2px rgba(60, 64, 67, 0.3), 0 1px 3px 1px rgba(60, 64, 67, 0.15);\n",
              "    fill: var(--button-hover-fill-color);\n",
              "  }\n",
              "\n",
              "  .colab-df-quickchart-complete:disabled,\n",
              "  .colab-df-quickchart-complete:disabled:hover {\n",
              "    background-color: var(--disabled-bg-color);\n",
              "    fill: var(--disabled-fill-color);\n",
              "    box-shadow: none;\n",
              "  }\n",
              "\n",
              "  .colab-df-spinner {\n",
              "    border: 2px solid var(--fill-color);\n",
              "    border-color: transparent;\n",
              "    border-bottom-color: var(--fill-color);\n",
              "    animation:\n",
              "      spin 1s steps(1) infinite;\n",
              "  }\n",
              "\n",
              "  @keyframes spin {\n",
              "    0% {\n",
              "      border-color: transparent;\n",
              "      border-bottom-color: var(--fill-color);\n",
              "      border-left-color: var(--fill-color);\n",
              "    }\n",
              "    20% {\n",
              "      border-color: transparent;\n",
              "      border-left-color: var(--fill-color);\n",
              "      border-top-color: var(--fill-color);\n",
              "    }\n",
              "    30% {\n",
              "      border-color: transparent;\n",
              "      border-left-color: var(--fill-color);\n",
              "      border-top-color: var(--fill-color);\n",
              "      border-right-color: var(--fill-color);\n",
              "    }\n",
              "    40% {\n",
              "      border-color: transparent;\n",
              "      border-right-color: var(--fill-color);\n",
              "      border-top-color: var(--fill-color);\n",
              "    }\n",
              "    60% {\n",
              "      border-color: transparent;\n",
              "      border-right-color: var(--fill-color);\n",
              "    }\n",
              "    80% {\n",
              "      border-color: transparent;\n",
              "      border-right-color: var(--fill-color);\n",
              "      border-bottom-color: var(--fill-color);\n",
              "    }\n",
              "    90% {\n",
              "      border-color: transparent;\n",
              "      border-bottom-color: var(--fill-color);\n",
              "    }\n",
              "  }\n",
              "</style>\n",
              "\n",
              "  <script>\n",
              "    async function quickchart(key) {\n",
              "      const quickchartButtonEl =\n",
              "        document.querySelector('#' + key + ' button');\n",
              "      quickchartButtonEl.disabled = true;  // To prevent multiple clicks.\n",
              "      quickchartButtonEl.classList.add('colab-df-spinner');\n",
              "      try {\n",
              "        const charts = await google.colab.kernel.invokeFunction(\n",
              "            'suggestCharts', [key], {});\n",
              "      } catch (error) {\n",
              "        console.error('Error during call to suggestCharts:', error);\n",
              "      }\n",
              "      quickchartButtonEl.classList.remove('colab-df-spinner');\n",
              "      quickchartButtonEl.classList.add('colab-df-quickchart-complete');\n",
              "    }\n",
              "    (() => {\n",
              "      let quickchartButtonEl =\n",
              "        document.querySelector('#df-8b6c0bad-1ca1-4cf0-a373-90883ba3738c button');\n",
              "      quickchartButtonEl.style.display =\n",
              "        google.colab.kernel.accessAllowed ? 'block' : 'none';\n",
              "    })();\n",
              "  </script>\n",
              "</div>\n",
              "\n",
              "  <div id=\"id_9b546431-d0ee-4c89-9779-876336bb760b\">\n",
              "    <style>\n",
              "      .colab-df-generate {\n",
              "        background-color: #E8F0FE;\n",
              "        border: none;\n",
              "        border-radius: 50%;\n",
              "        cursor: pointer;\n",
              "        display: none;\n",
              "        fill: #1967D2;\n",
              "        height: 32px;\n",
              "        padding: 0 0 0 0;\n",
              "        width: 32px;\n",
              "      }\n",
              "\n",
              "      .colab-df-generate:hover {\n",
              "        background-color: #E2EBFA;\n",
              "        box-shadow: 0px 1px 2px rgba(60, 64, 67, 0.3), 0px 1px 3px 1px rgba(60, 64, 67, 0.15);\n",
              "        fill: #174EA6;\n",
              "      }\n",
              "\n",
              "      [theme=dark] .colab-df-generate {\n",
              "        background-color: #3B4455;\n",
              "        fill: #D2E3FC;\n",
              "      }\n",
              "\n",
              "      [theme=dark] .colab-df-generate:hover {\n",
              "        background-color: #434B5C;\n",
              "        box-shadow: 0px 1px 3px 1px rgba(0, 0, 0, 0.15);\n",
              "        filter: drop-shadow(0px 1px 2px rgba(0, 0, 0, 0.3));\n",
              "        fill: #FFFFFF;\n",
              "      }\n",
              "    </style>\n",
              "    <button class=\"colab-df-generate\" onclick=\"generateWithVariable('data')\"\n",
              "            title=\"Generate code using this dataframe.\"\n",
              "            style=\"display:none;\">\n",
              "\n",
              "  <svg xmlns=\"http://www.w3.org/2000/svg\" height=\"24px\"viewBox=\"0 0 24 24\"\n",
              "       width=\"24px\">\n",
              "    <path d=\"M7,19H8.4L18.45,9,17,7.55,7,17.6ZM5,21V16.75L18.45,3.32a2,2,0,0,1,2.83,0l1.4,1.43a1.91,1.91,0,0,1,.58,1.4,1.91,1.91,0,0,1-.58,1.4L9.25,21ZM18.45,9,17,7.55Zm-12,3A5.31,5.31,0,0,0,4.9,8.1,5.31,5.31,0,0,0,1,6.5,5.31,5.31,0,0,0,4.9,4.9,5.31,5.31,0,0,0,6.5,1,5.31,5.31,0,0,0,8.1,4.9,5.31,5.31,0,0,0,12,6.5,5.46,5.46,0,0,0,6.5,12Z\"/>\n",
              "  </svg>\n",
              "    </button>\n",
              "    <script>\n",
              "      (() => {\n",
              "      const buttonEl =\n",
              "        document.querySelector('#id_9b546431-d0ee-4c89-9779-876336bb760b button.colab-df-generate');\n",
              "      buttonEl.style.display =\n",
              "        google.colab.kernel.accessAllowed ? 'block' : 'none';\n",
              "\n",
              "      buttonEl.onclick = () => {\n",
              "        google.colab.notebook.generateWithVariable('data');\n",
              "      }\n",
              "      })();\n",
              "    </script>\n",
              "  </div>\n",
              "\n",
              "    </div>\n",
              "  </div>\n"
            ],
            "application/vnd.google.colaboratory.intrinsic+json": {
              "type": "dataframe",
              "variable_name": "data"
            }
          },
          "metadata": {},
          "execution_count": 4
        }
      ]
    },
    {
      "cell_type": "markdown",
      "source": [
        "# 3. Data Cleaning"
      ],
      "metadata": {
        "id": "zO7H_UMyLlkl"
      }
    },
    {
      "cell_type": "markdown",
      "source": [
        "### data contains 6cr+ Rows with 11 Columns"
      ],
      "metadata": {
        "id": "iGm9dqdpo2SM"
      }
    },
    {
      "cell_type": "code",
      "source": [
        "data.shape"
      ],
      "metadata": {
        "colab": {
          "base_uri": "https://localhost:8080/"
        },
        "id": "sG_2_n9wtqOa",
        "outputId": "a89e8aca-bf25-491f-f7d7-d935ecc681d2"
      },
      "execution_count": 5,
      "outputs": [
        {
          "output_type": "execute_result",
          "data": {
            "text/plain": [
              "(6362620, 11)"
            ]
          },
          "metadata": {},
          "execution_count": 5
        }
      ]
    },
    {
      "cell_type": "code",
      "source": [
        "data.info()"
      ],
      "metadata": {
        "colab": {
          "base_uri": "https://localhost:8080/"
        },
        "id": "E5Q6D6cqoR8A",
        "outputId": "fc4f0324-fb8f-46cd-dd11-2b8d3816ec39"
      },
      "execution_count": 6,
      "outputs": [
        {
          "output_type": "stream",
          "name": "stdout",
          "text": [
            "<class 'pandas.core.frame.DataFrame'>\n",
            "RangeIndex: 6362620 entries, 0 to 6362619\n",
            "Data columns (total 11 columns):\n",
            " #   Column          Dtype  \n",
            "---  ------          -----  \n",
            " 0   step            int64  \n",
            " 1   type            object \n",
            " 2   amount          float64\n",
            " 3   nameOrig        object \n",
            " 4   oldbalanceOrg   float64\n",
            " 5   newbalanceOrig  float64\n",
            " 6   nameDest        object \n",
            " 7   oldbalanceDest  float64\n",
            " 8   newbalanceDest  float64\n",
            " 9   isFraud         int64  \n",
            " 10  isFlaggedFraud  int64  \n",
            "dtypes: float64(5), int64(3), object(3)\n",
            "memory usage: 534.0+ MB\n"
          ]
        }
      ]
    },
    {
      "cell_type": "markdown",
      "source": [
        "there is no any duplicate values in dataset"
      ],
      "metadata": {
        "id": "I6EkaQ0SuElM"
      }
    },
    {
      "cell_type": "code",
      "source": [
        "data.drop_duplicates(inplace=True)"
      ],
      "metadata": {
        "id": "sXGGU5U-tzKK"
      },
      "execution_count": 7,
      "outputs": []
    },
    {
      "cell_type": "code",
      "source": [
        "data.shape"
      ],
      "metadata": {
        "colab": {
          "base_uri": "https://localhost:8080/"
        },
        "id": "nvlYUoc1t_We",
        "outputId": "40e05fcd-694f-45fb-d313-665f190b9bb3"
      },
      "execution_count": 8,
      "outputs": [
        {
          "output_type": "execute_result",
          "data": {
            "text/plain": [
              "(6362620, 11)"
            ]
          },
          "metadata": {},
          "execution_count": 8
        }
      ]
    },
    {
      "cell_type": "markdown",
      "source": [
        "### Checking NULL values ------------>"
      ],
      "metadata": {
        "id": "s05TxHd0oIGw"
      }
    },
    {
      "cell_type": "code",
      "source": [
        "data.isnull().sum()"
      ],
      "metadata": {
        "colab": {
          "base_uri": "https://localhost:8080/"
        },
        "id": "qE6xVsaw4QkF",
        "outputId": "afb5966c-e9b3-4c5c-e712-7855b0557fe2"
      },
      "execution_count": 9,
      "outputs": [
        {
          "output_type": "execute_result",
          "data": {
            "text/plain": [
              "step              0\n",
              "type              0\n",
              "amount            0\n",
              "nameOrig          0\n",
              "oldbalanceOrg     0\n",
              "newbalanceOrig    0\n",
              "nameDest          0\n",
              "oldbalanceDest    0\n",
              "newbalanceDest    0\n",
              "isFraud           0\n",
              "isFlaggedFraud    0\n",
              "dtype: int64"
            ]
          },
          "metadata": {},
          "execution_count": 9
        }
      ]
    },
    {
      "cell_type": "markdown",
      "source": [
        "### Unique values by each column"
      ],
      "metadata": {
        "id": "Y6P5ChsQoQYg"
      }
    },
    {
      "cell_type": "code",
      "source": [
        "data.nunique(axis=0)"
      ],
      "metadata": {
        "colab": {
          "base_uri": "https://localhost:8080/"
        },
        "id": "fm7iusK_kWqD",
        "outputId": "2256cc32-5047-464f-eae1-190642f4c6b7"
      },
      "execution_count": 10,
      "outputs": [
        {
          "output_type": "execute_result",
          "data": {
            "text/plain": [
              "step                  743\n",
              "type                    5\n",
              "amount            5316900\n",
              "nameOrig          6353307\n",
              "oldbalanceOrg     1845844\n",
              "newbalanceOrig    2682586\n",
              "nameDest          2722362\n",
              "oldbalanceDest    3614697\n",
              "newbalanceDest    3555499\n",
              "isFraud                 2\n",
              "isFlaggedFraud          2\n",
              "dtype: int64"
            ]
          },
          "metadata": {},
          "execution_count": 10
        }
      ]
    },
    {
      "cell_type": "markdown",
      "source": [
        "### Target column summary"
      ],
      "metadata": {
        "id": "Z0g_o6bTrGLU"
      }
    },
    {
      "cell_type": "code",
      "source": [
        "data['isFraud'].unique()"
      ],
      "metadata": {
        "colab": {
          "base_uri": "https://localhost:8080/"
        },
        "id": "_FISLlsu4jIV",
        "outputId": "3bedcc8c-9c47-435a-e192-772452f4c900"
      },
      "execution_count": 11,
      "outputs": [
        {
          "output_type": "execute_result",
          "data": {
            "text/plain": [
              "array([0, 1])"
            ]
          },
          "metadata": {},
          "execution_count": 11
        }
      ]
    },
    {
      "cell_type": "code",
      "source": [
        "data[\"isFraud\"].value_counts()"
      ],
      "metadata": {
        "colab": {
          "base_uri": "https://localhost:8080/"
        },
        "id": "WPc310W6lL_A",
        "outputId": "9de7de39-d10a-4017-a446-a3052837026a"
      },
      "execution_count": 12,
      "outputs": [
        {
          "output_type": "execute_result",
          "data": {
            "text/plain": [
              "0    6354407\n",
              "1       8213\n",
              "Name: isFraud, dtype: int64"
            ]
          },
          "metadata": {},
          "execution_count": 12
        }
      ]
    },
    {
      "cell_type": "markdown",
      "source": [
        "# 4. Data Analysis & Visualization"
      ],
      "metadata": {
        "id": "v10vwTWPLraU"
      }
    },
    {
      "cell_type": "markdown",
      "source": [
        "## Obervation -1"
      ],
      "metadata": {
        "id": "lj-E_fA4vykr"
      }
    },
    {
      "cell_type": "code",
      "source": [
        "legal_transactions = len(data[data.isFraud == 0])\n",
        "fraud_transactions = len(data[data.isFraud == 1])\n",
        "legal_percent = (legal_transactions / (fraud_transactions + legal_transactions)) * 100\n",
        "fraud_percent = (fraud_transactions / (fraud_transactions + legal_transactions)) * 100"
      ],
      "metadata": {
        "id": "SiP7SMalrSGB"
      },
      "execution_count": 13,
      "outputs": []
    },
    {
      "cell_type": "code",
      "source": [
        "print(\"Number of Legal transactions: \", legal_transactions)\n",
        "print(\"Number of Fraud transactions: \", fraud_transactions)\n",
        "print(\"Percentage of Legal transactions: {:.4f} %\".format(legal_percent))\n",
        "print(\"Percentage of Fraud transactions: {:.4f} %\".format(fraud_percent))"
      ],
      "metadata": {
        "colab": {
          "base_uri": "https://localhost:8080/"
        },
        "id": "MNkbN1v4r42r",
        "outputId": "d8248f6b-660b-43d5-c74e-9d86ecfa5c50"
      },
      "execution_count": 14,
      "outputs": [
        {
          "output_type": "stream",
          "name": "stdout",
          "text": [
            "Number of Legal transactions:  6354407\n",
            "Number of Fraud transactions:  8213\n",
            "Percentage of Legal transactions: 99.8709 %\n",
            "Percentage of Fraud transactions: 0.1291 %\n"
          ]
        }
      ]
    },
    {
      "cell_type": "markdown",
      "source": [
        "## Conclusion"
      ],
      "metadata": {
        "id": "S1_Kxg3qv3ct"
      }
    },
    {
      "cell_type": "markdown",
      "source": [
        "#### the analysis reveals that the dataset predominantly consists of legal transactions, accounting for 99.8709% of the total entries, while fraudulent transactions represent a minimal percentage at 0.1291%. This emphasizes the importance of developing robust fraud detection systems to effectively identify and mitigate the relatively rare instances of fraudulent activity within financial transactions."
      ],
      "metadata": {
        "id": "7S3_rZB_wb1M"
      }
    },
    {
      "cell_type": "markdown",
      "source": [
        "\n",
        "\n",
        "---\n",
        "\n",
        "\n",
        "\n",
        "---\n",
        "\n",
        "\n",
        "\n",
        "---\n",
        "\n"
      ],
      "metadata": {
        "id": "LHIarQ5Dwq8y"
      }
    },
    {
      "cell_type": "markdown",
      "source": [
        "## Observation-2"
      ],
      "metadata": {
        "id": "5y5xOJOMw83M"
      }
    },
    {
      "cell_type": "code",
      "source": [
        "data['type'].value_counts()"
      ],
      "metadata": {
        "colab": {
          "base_uri": "https://localhost:8080/"
        },
        "id": "J7x8tvFgxwKt",
        "outputId": "cbe07481-a6d4-42b5-97b3-e13ac439a0f4"
      },
      "execution_count": 15,
      "outputs": [
        {
          "output_type": "execute_result",
          "data": {
            "text/plain": [
              "CASH_OUT    2237500\n",
              "PAYMENT     2151495\n",
              "CASH_IN     1399284\n",
              "TRANSFER     532909\n",
              "DEBIT         41432\n",
              "Name: type, dtype: int64"
            ]
          },
          "metadata": {},
          "execution_count": 15
        }
      ]
    },
    {
      "cell_type": "code",
      "source": [
        "sns.countplot(x=data['type'] , data=data ,palette = \"Dark2\"  )\n"
      ],
      "metadata": {
        "colab": {
          "base_uri": "https://localhost:8080/",
          "height": 482
        },
        "id": "Cdeq7vAVwsu9",
        "outputId": "c60c9edd-2b16-44ad-fed6-5c91954e7794"
      },
      "execution_count": 16,
      "outputs": [
        {
          "output_type": "execute_result",
          "data": {
            "text/plain": [
              "<Axes: xlabel='type', ylabel='count'>"
            ]
          },
          "metadata": {},
          "execution_count": 16
        },
        {
          "output_type": "display_data",
          "data": {
            "text/plain": [
              "<Figure size 640x480 with 1 Axes>"
            ],
            "image/png": "[encoded data removed]"
          },
          "metadata": {}
        }
      ]
    },
    {
      "cell_type": "markdown",
      "source": [
        "## Conclusion"
      ],
      "metadata": {
        "id": "vogxVegHyrpN"
      }
    },
    {
      "cell_type": "markdown",
      "source": [
        "#### In summary, the analysis indicates that the most common types of transactions in the dataset are \"CASH_OUT\" and \"PAYMENT,\" followed by \"CASH_IN\" and \"TRANSFER,\" while \"DEBIT\" transactions are the least frequent. Understanding these transaction patterns is crucial for designing targeted fraud detection strategies and optimizing financial operations."
      ],
      "metadata": {
        "id": "nxGSrkGKyuhz"
      }
    },
    {
      "cell_type": "markdown",
      "source": [
        "## Observation -3"
      ],
      "metadata": {
        "id": "F-ViD5ji1UeV"
      }
    },
    {
      "cell_type": "code",
      "source": [
        "series=data.groupby('type')['amount'].sum()"
      ],
      "metadata": {
        "id": "WKV3HCPc1TqT"
      },
      "execution_count": 17,
      "outputs": []
    },
    {
      "cell_type": "code",
      "source": [
        "series.sort_values(ascending=False)"
      ],
      "metadata": {
        "colab": {
          "base_uri": "https://localhost:8080/"
        },
        "id": "_usMazqu3n5h",
        "outputId": "c1c57843-af77-4822-e97c-24d30e5e69a1"
      },
      "execution_count": 18,
      "outputs": [
        {
          "output_type": "execute_result",
          "data": {
            "text/plain": [
              "type\n",
              "TRANSFER    4.852920e+11\n",
              "CASH_OUT    3.944130e+11\n",
              "CASH_IN     2.363674e+11\n",
              "PAYMENT     2.809337e+10\n",
              "DEBIT       2.271992e+08\n",
              "Name: amount, dtype: float64"
            ]
          },
          "metadata": {},
          "execution_count": 18
        }
      ]
    },
    {
      "cell_type": "code",
      "source": [
        "series_df=pd.DataFrame(series)"
      ],
      "metadata": {
        "id": "Zwy825cw363w"
      },
      "execution_count": 19,
      "outputs": []
    },
    {
      "cell_type": "code",
      "source": [
        "series_df"
      ],
      "metadata": {
        "colab": {
          "base_uri": "https://localhost:8080/",
          "height": 237
        },
        "id": "F9SwfJSR4QQV",
        "outputId": "d7307acf-52a4-4942-a4b3-f6e91fb4f7f4"
      },
      "execution_count": 20,
      "outputs": [
        {
          "output_type": "execute_result",
          "data": {
            "text/plain": [
              "                amount\n",
              "type                  \n",
              "CASH_IN   2.363674e+11\n",
              "CASH_OUT  3.944130e+11\n",
              "DEBIT     2.271992e+08\n",
              "PAYMENT   2.809337e+10\n",
              "TRANSFER  4.852920e+11"
            ],
            "text/html": [
              "\n",
              "  <div id=\"df-396af83f-1502-48d7-9b9a-49d99fb18a42\" class=\"colab-df-container\">\n",
              "    <div>\n",
              "<style scoped>\n",
              "    .dataframe tbody tr th:only-of-type {\n",
              "        vertical-align: middle;\n",
              "    }\n",
              "\n",
              "    .dataframe tbody tr th {\n",
              "        vertical-align: top;\n",
              "    }\n",
              "\n",
              "    .dataframe thead th {\n",
              "        text-align: right;\n",
              "    }\n",
              "</style>\n",
              "<table border=\"1\" class=\"dataframe\">\n",
              "  <thead>\n",
              "    <tr style=\"text-align: right;\">\n",
              "      <th></th>\n",
              "      <th>amount</th>\n",
              "    </tr>\n",
              "    <tr>\n",
              "      <th>type</th>\n",
              "      <th></th>\n",
              "    </tr>\n",
              "  </thead>\n",
              "  <tbody>\n",
              "    <tr>\n",
              "      <th>CASH_IN</th>\n",
              "      <td>2.363674e+11</td>\n",
              "    </tr>\n",
              "    <tr>\n",
              "      <th>CASH_OUT</th>\n",
              "      <td>3.944130e+11</td>\n",
              "    </tr>\n",
              "    <tr>\n",
              "      <th>DEBIT</th>\n",
              "      <td>2.271992e+08</td>\n",
              "    </tr>\n",
              "    <tr>\n",
              "      <th>PAYMENT</th>\n",
              "      <td>2.809337e+10</td>\n",
              "    </tr>\n",
              "    <tr>\n",
              "      <th>TRANSFER</th>\n",
              "      <td>4.852920e+11</td>\n",
              "    </tr>\n",
              "  </tbody>\n",
              "</table>\n",
              "</div>\n",
              "    <div class=\"colab-df-buttons\">\n",
              "\n",
              "  <div class=\"colab-df-container\">\n",
              "    <button class=\"colab-df-convert\" onclick=\"convertToInteractive('df-396af83f-1502-48d7-9b9a-49d99fb18a42')\"\n",
              "            title=\"Convert this dataframe to an interactive table.\"\n",
              "            style=\"display:none;\">\n",
              "\n",
              "  <svg xmlns=\"http://www.w3.org/2000/svg\" height=\"24px\" viewBox=\"0 -960 960 960\">\n",
              "    <path d=\"M120-120v-720h720v720H120Zm60-500h600v-160H180v160Zm220 220h160v-160H400v160Zm0 220h160v-160H400v160ZM180-400h160v-160H180v160Zm440 0h160v-160H620v160ZM180-180h160v-160H180v160Zm440 0h160v-160H620v160Z\"/>\n",
              "  </svg>\n",
              "    </button>\n",
              "\n",
              "  <style>\n",
              "    .colab-df-container {\n",
              "      display:flex;\n",
              "      gap: 12px;\n",
              "    }\n",
              "\n",
              "    .colab-df-convert {\n",
              "      background-color: #E8F0FE;\n",
              "      border: none;\n",
              "      border-radius: 50%;\n",
              "      cursor: pointer;\n",
              "      display: none;\n",
              "      fill: #1967D2;\n",
              "      height: 32px;\n",
              "      padding: 0 0 0 0;\n",
              "      width: 32px;\n",
              "    }\n",
              "\n",
              "    .colab-df-convert:hover {\n",
              "      background-color: #E2EBFA;\n",
              "      box-shadow: 0px 1px 2px rgba(60, 64, 67, 0.3), 0px 1px 3px 1px rgba(60, 64, 67, 0.15);\n",
              "      fill: #174EA6;\n",
              "    }\n",
              "\n",
              "    .colab-df-buttons div {\n",
              "      margin-bottom: 4px;\n",
              "    }\n",
              "\n",
              "    [theme=dark] .colab-df-convert {\n",
              "      background-color: #3B4455;\n",
              "      fill: #D2E3FC;\n",
              "    }\n",
              "\n",
              "    [theme=dark] .colab-df-convert:hover {\n",
              "      background-color: #434B5C;\n",
              "      box-shadow: 0px 1px 3px 1px rgba(0, 0, 0, 0.15);\n",
              "      filter: drop-shadow(0px 1px 2px rgba(0, 0, 0, 0.3));\n",
              "      fill: #FFFFFF;\n",
              "    }\n",
              "  </style>\n",
              "\n",
              "    <script>\n",
              "      const buttonEl =\n",
              "        document.querySelector('#df-396af83f-1502-48d7-9b9a-49d99fb18a42 button.colab-df-convert');\n",
              "      buttonEl.style.display =\n",
              "        google.colab.kernel.accessAllowed ? 'block' : 'none';\n",
              "\n",
              "      async function convertToInteractive(key) {\n",
              "        const element = document.querySelector('#df-396af83f-1502-48d7-9b9a-49d99fb18a42');\n",
              "        const dataTable =\n",
              "          await google.colab.kernel.invokeFunction('convertToInteractive',\n",
              "                                                    [key], {});\n",
              "        if (!dataTable) return;\n",
              "\n",
              "        const docLinkHtml = 'Like what you see? Visit the ' +\n",
              "          '<a target=\"_blank\" href=https://colab.research.google.com/notebooks/data_table.ipynb>data table notebook</a>'\n",
              "          + ' to learn more about interactive tables.';\n",
              "        element.innerHTML = '';\n",
              "        dataTable['output_type'] = 'display_data';\n",
              "        await google.colab.output.renderOutput(dataTable, element);\n",
              "        const docLink = document.createElement('div');\n",
              "        docLink.innerHTML = docLinkHtml;\n",
              "        element.appendChild(docLink);\n",
              "      }\n",
              "    </script>\n",
              "  </div>\n",
              "\n",
              "\n",
              "<div id=\"df-8fc0bc14-8bf1-47a2-b13a-5799b1fcf530\">\n",
              "  <button class=\"colab-df-quickchart\" onclick=\"quickchart('df-8fc0bc14-8bf1-47a2-b13a-5799b1fcf530')\"\n",
              "            title=\"Suggest charts\"\n",
              "            style=\"display:none;\">\n",
              "\n",
              "<svg xmlns=\"http://www.w3.org/2000/svg\" height=\"24px\"viewBox=\"0 0 24 24\"\n",
              "     width=\"24px\">\n",
              "    <g>\n",
              "        <path d=\"M19 3H5c-1.1 0-2 .9-2 2v14c0 1.1.9 2 2 2h14c1.1 0 2-.9 2-2V5c0-1.1-.9-2-2-2zM9 17H7v-7h2v7zm4 0h-2V7h2v10zm4 0h-2v-4h2v4z\"/>\n",
              "    </g>\n",
              "</svg>\n",
              "  </button>\n",
              "\n",
              "<style>\n",
              "  .colab-df-quickchart {\n",
              "      --bg-color: #E8F0FE;\n",
              "      --fill-color: #1967D2;\n",
              "      --hover-bg-color: #E2EBFA;\n",
              "      --hover-fill-color: #174EA6;\n",
              "      --disabled-fill-color: #AAA;\n",
              "      --disabled-bg-color: #DDD;\n",
              "  }\n",
              "\n",
              "  [theme=dark] .colab-df-quickchart {\n",
              "      --bg-color: #3B4455;\n",
              "      --fill-color: #D2E3FC;\n",
              "      --hover-bg-color: #434B5C;\n",
              "      --hover-fill-color: #FFFFFF;\n",
              "      --disabled-bg-color: #3B4455;\n",
              "      --disabled-fill-color: #666;\n",
              "  }\n",
              "\n",
              "  .colab-df-quickchart {\n",
              "    background-color: var(--bg-color);\n",
              "    border: none;\n",
              "    border-radius: 50%;\n",
              "    cursor: pointer;\n",
              "    display: none;\n",
              "    fill: var(--fill-color);\n",
              "    height: 32px;\n",
              "    padding: 0;\n",
              "    width: 32px;\n",
              "  }\n",
              "\n",
              "  .colab-df-quickchart:hover {\n",
              "    background-color: var(--hover-bg-color);\n",
              "    box-shadow: 0 1px 2px rgba(60, 64, 67, 0.3), 0 1px 3px 1px rgba(60, 64, 67, 0.15);\n",
              "    fill: var(--button-hover-fill-color);\n",
              "  }\n",
              "\n",
              "  .colab-df-quickchart-complete:disabled,\n",
              "  .colab-df-quickchart-complete:disabled:hover {\n",
              "    background-color: var(--disabled-bg-color);\n",
              "    fill: var(--disabled-fill-color);\n",
              "    box-shadow: none;\n",
              "  }\n",
              "\n",
              "  .colab-df-spinner {\n",
              "    border: 2px solid var(--fill-color);\n",
              "    border-color: transparent;\n",
              "    border-bottom-color: var(--fill-color);\n",
              "    animation:\n",
              "      spin 1s steps(1) infinite;\n",
              "  }\n",
              "\n",
              "  @keyframes spin {\n",
              "    0% {\n",
              "      border-color: transparent;\n",
              "      border-bottom-color: var(--fill-color);\n",
              "      border-left-color: var(--fill-color);\n",
              "    }\n",
              "    20% {\n",
              "      border-color: transparent;\n",
              "      border-left-color: var(--fill-color);\n",
              "      border-top-color: var(--fill-color);\n",
              "    }\n",
              "    30% {\n",
              "      border-color: transparent;\n",
              "      border-left-color: var(--fill-color);\n",
              "      border-top-color: var(--fill-color);\n",
              "      border-right-color: var(--fill-color);\n",
              "    }\n",
              "    40% {\n",
              "      border-color: transparent;\n",
              "      border-right-color: var(--fill-color);\n",
              "      border-top-color: var(--fill-color);\n",
              "    }\n",
              "    60% {\n",
              "      border-color: transparent;\n",
              "      border-right-color: var(--fill-color);\n",
              "    }\n",
              "    80% {\n",
              "      border-color: transparent;\n",
              "      border-right-color: var(--fill-color);\n",
              "      border-bottom-color: var(--fill-color);\n",
              "    }\n",
              "    90% {\n",
              "      border-color: transparent;\n",
              "      border-bottom-color: var(--fill-color);\n",
              "    }\n",
              "  }\n",
              "</style>\n",
              "\n",
              "  <script>\n",
              "    async function quickchart(key) {\n",
              "      const quickchartButtonEl =\n",
              "        document.querySelector('#' + key + ' button');\n",
              "      quickchartButtonEl.disabled = true;  // To prevent multiple clicks.\n",
              "      quickchartButtonEl.classList.add('colab-df-spinner');\n",
              "      try {\n",
              "        const charts = await google.colab.kernel.invokeFunction(\n",
              "            'suggestCharts', [key], {});\n",
              "      } catch (error) {\n",
              "        console.error('Error during call to suggestCharts:', error);\n",
              "      }\n",
              "      quickchartButtonEl.classList.remove('colab-df-spinner');\n",
              "      quickchartButtonEl.classList.add('colab-df-quickchart-complete');\n",
              "    }\n",
              "    (() => {\n",
              "      let quickchartButtonEl =\n",
              "        document.querySelector('#df-8fc0bc14-8bf1-47a2-b13a-5799b1fcf530 button');\n",
              "      quickchartButtonEl.style.display =\n",
              "        google.colab.kernel.accessAllowed ? 'block' : 'none';\n",
              "    })();\n",
              "  </script>\n",
              "</div>\n",
              "\n",
              "  <div id=\"id_47f43c51-929c-44e8-a132-61040bc615bc\">\n",
              "    <style>\n",
              "      .colab-df-generate {\n",
              "        background-color: #E8F0FE;\n",
              "        border: none;\n",
              "        border-radius: 50%;\n",
              "        cursor: pointer;\n",
              "        display: none;\n",
              "        fill: #1967D2;\n",
              "        height: 32px;\n",
              "        padding: 0 0 0 0;\n",
              "        width: 32px;\n",
              "      }\n",
              "\n",
              "      .colab-df-generate:hover {\n",
              "        background-color: #E2EBFA;\n",
              "        box-shadow: 0px 1px 2px rgba(60, 64, 67, 0.3), 0px 1px 3px 1px rgba(60, 64, 67, 0.15);\n",
              "        fill: #174EA6;\n",
              "      }\n",
              "\n",
              "      [theme=dark] .colab-df-generate {\n",
              "        background-color: #3B4455;\n",
              "        fill: #D2E3FC;\n",
              "      }\n",
              "\n",
              "      [theme=dark] .colab-df-generate:hover {\n",
              "        background-color: #434B5C;\n",
              "        box-shadow: 0px 1px 3px 1px rgba(0, 0, 0, 0.15);\n",
              "        filter: drop-shadow(0px 1px 2px rgba(0, 0, 0, 0.3));\n",
              "        fill: #FFFFFF;\n",
              "      }\n",
              "    </style>\n",
              "    <button class=\"colab-df-generate\" onclick=\"generateWithVariable('series_df')\"\n",
              "            title=\"Generate code using this dataframe.\"\n",
              "            style=\"display:none;\">\n",
              "\n",
              "  <svg xmlns=\"http://www.w3.org/2000/svg\" height=\"24px\"viewBox=\"0 0 24 24\"\n",
              "       width=\"24px\">\n",
              "    <path d=\"M7,19H8.4L18.45,9,17,7.55,7,17.6ZM5,21V16.75L18.45,3.32a2,2,0,0,1,2.83,0l1.4,1.43a1.91,1.91,0,0,1,.58,1.4,1.91,1.91,0,0,1-.58,1.4L9.25,21ZM18.45,9,17,7.55Zm-12,3A5.31,5.31,0,0,0,4.9,8.1,5.31,5.31,0,0,0,1,6.5,5.31,5.31,0,0,0,4.9,4.9,5.31,5.31,0,0,0,6.5,1,5.31,5.31,0,0,0,8.1,4.9,5.31,5.31,0,0,0,12,6.5,5.46,5.46,0,0,0,6.5,12Z\"/>\n",
              "  </svg>\n",
              "    </button>\n",
              "    <script>\n",
              "      (() => {\n",
              "      const buttonEl =\n",
              "        document.querySelector('#id_47f43c51-929c-44e8-a132-61040bc615bc button.colab-df-generate');\n",
              "      buttonEl.style.display =\n",
              "        google.colab.kernel.accessAllowed ? 'block' : 'none';\n",
              "\n",
              "      buttonEl.onclick = () => {\n",
              "        google.colab.notebook.generateWithVariable('series_df');\n",
              "      }\n",
              "      })();\n",
              "    </script>\n",
              "  </div>\n",
              "\n",
              "    </div>\n",
              "  </div>\n"
            ],
            "application/vnd.google.colaboratory.intrinsic+json": {
              "type": "dataframe",
              "variable_name": "series_df",
              "summary": "{\n  \"name\": \"series_df\",\n  \"rows\": 5,\n  \"fields\": [\n    {\n      \"column\": \"amount\",\n      \"properties\": {\n        \"dtype\": \"number\",\n        \"std\": 215523614936.68478,\n        \"min\": 227199221.28,\n        \"max\": 485291987263.17,\n        \"num_unique_values\": 5,\n        \"samples\": [\n          394412995224.49,\n          485291987263.17,\n          227199221.28\n        ],\n        \"semantic_type\": \"\",\n        \"description\": \"\"\n      }\n    }\n  ]\n}"
            }
          },
          "metadata": {},
          "execution_count": 20
        }
      ]
    },
    {
      "cell_type": "code",
      "source": [
        "sns.barplot(x=\"type\" , y=\"amount\" , data=series_df ,palette = \"Dark2\" )"
      ],
      "metadata": {
        "colab": {
          "base_uri": "https://localhost:8080/",
          "height": 482
        },
        "id": "T2uJbzwW4MKo",
        "outputId": "202243b8-90b6-4eae-c078-b82659b9b17a"
      },
      "execution_count": 21,
      "outputs": [
        {
          "output_type": "execute_result",
          "data": {
            "text/plain": [
              "<Axes: xlabel='type', ylabel='amount'>"
            ]
          },
          "metadata": {},
          "execution_count": 21
        },
        {
          "output_type": "display_data",
          "data": {
            "text/plain": [
              "<Figure size 640x480 with 1 Axes>"
            ],
            "image/png": "[encoded data removed]"
          },
          "metadata": {}
        }
      ]
    },
    {
      "cell_type": "markdown",
      "source": [
        "#### \"TRANSFER\" type has  highest sum of amount followed by \"CASH_OUT\""
      ],
      "metadata": {
        "id": "Dcbnh8gt4vwl"
      }
    },
    {
      "cell_type": "markdown",
      "source": [
        "\n",
        "\n",
        "---\n",
        "\n",
        "\n",
        "\n",
        "---\n",
        "\n",
        "\n",
        "\n",
        "---\n",
        "\n"
      ],
      "metadata": {
        "id": "DXcSxVhqzS7-"
      }
    },
    {
      "cell_type": "markdown",
      "source": [
        "## Observation-4"
      ],
      "metadata": {
        "id": "GjaRfepF5VZt"
      }
    },
    {
      "cell_type": "code",
      "source": [
        "series=data.groupby('isFraud')['amount'].sum()"
      ],
      "metadata": {
        "id": "6U9dujca8Rq9"
      },
      "execution_count": 22,
      "outputs": []
    },
    {
      "cell_type": "code",
      "source": [
        "series_df=pd.DataFrame(series)"
      ],
      "metadata": {
        "id": "2sgpPuhh8R1X"
      },
      "execution_count": 23,
      "outputs": []
    },
    {
      "cell_type": "code",
      "source": [
        "series_df"
      ],
      "metadata": {
        "colab": {
          "base_uri": "https://localhost:8080/",
          "height": 143
        },
        "id": "gzD_N43x8rMV",
        "outputId": "abcfca73-3243-4eda-ea1e-344576da4339"
      },
      "execution_count": 24,
      "outputs": [
        {
          "output_type": "execute_result",
          "data": {
            "text/plain": [
              "               amount\n",
              "isFraud              \n",
              "0        1.132337e+12\n",
              "1        1.205642e+10"
            ],
            "text/html": [
              "\n",
              "  <div id=\"df-efbe63a6-3363-49d0-bb28-b9f3bdd95e41\" class=\"colab-df-container\">\n",
              "    <div>\n",
              "<style scoped>\n",
              "    .dataframe tbody tr th:only-of-type {\n",
              "        vertical-align: middle;\n",
              "    }\n",
              "\n",
              "    .dataframe tbody tr th {\n",
              "        vertical-align: top;\n",
              "    }\n",
              "\n",
              "    .dataframe thead th {\n",
              "        text-align: right;\n",
              "    }\n",
              "</style>\n",
              "<table border=\"1\" class=\"dataframe\">\n",
              "  <thead>\n",
              "    <tr style=\"text-align: right;\">\n",
              "      <th></th>\n",
              "      <th>amount</th>\n",
              "    </tr>\n",
              "    <tr>\n",
              "      <th>isFraud</th>\n",
              "      <th></th>\n",
              "    </tr>\n",
              "  </thead>\n",
              "  <tbody>\n",
              "    <tr>\n",
              "      <th>0</th>\n",
              "      <td>1.132337e+12</td>\n",
              "    </tr>\n",
              "    <tr>\n",
              "      <th>1</th>\n",
              "      <td>1.205642e+10</td>\n",
              "    </tr>\n",
              "  </tbody>\n",
              "</table>\n",
              "</div>\n",
              "    <div class=\"colab-df-buttons\">\n",
              "\n",
              "  <div class=\"colab-df-container\">\n",
              "    <button class=\"colab-df-convert\" onclick=\"convertToInteractive('df-efbe63a6-3363-49d0-bb28-b9f3bdd95e41')\"\n",
              "            title=\"Convert this dataframe to an interactive table.\"\n",
              "            style=\"display:none;\">\n",
              "\n",
              "  <svg xmlns=\"http://www.w3.org/2000/svg\" height=\"24px\" viewBox=\"0 -960 960 960\">\n",
              "    <path d=\"M120-120v-720h720v720H120Zm60-500h600v-160H180v160Zm220 220h160v-160H400v160Zm0 220h160v-160H400v160ZM180-400h160v-160H180v160Zm440 0h160v-160H620v160ZM180-180h160v-160H180v160Zm440 0h160v-160H620v160Z\"/>\n",
              "  </svg>\n",
              "    </button>\n",
              "\n",
              "  <style>\n",
              "    .colab-df-container {\n",
              "      display:flex;\n",
              "      gap: 12px;\n",
              "    }\n",
              "\n",
              "    .colab-df-convert {\n",
              "      background-color: #E8F0FE;\n",
              "      border: none;\n",
              "      border-radius: 50%;\n",
              "      cursor: pointer;\n",
              "      display: none;\n",
              "      fill: #1967D2;\n",
              "      height: 32px;\n",
              "      padding: 0 0 0 0;\n",
              "      width: 32px;\n",
              "    }\n",
              "\n",
              "    .colab-df-convert:hover {\n",
              "      background-color: #E2EBFA;\n",
              "      box-shadow: 0px 1px 2px rgba(60, 64, 67, 0.3), 0px 1px 3px 1px rgba(60, 64, 67, 0.15);\n",
              "      fill: #174EA6;\n",
              "    }\n",
              "\n",
              "    .colab-df-buttons div {\n",
              "      margin-bottom: 4px;\n",
              "    }\n",
              "\n",
              "    [theme=dark] .colab-df-convert {\n",
              "      background-color: #3B4455;\n",
              "      fill: #D2E3FC;\n",
              "    }\n",
              "\n",
              "    [theme=dark] .colab-df-convert:hover {\n",
              "      background-color: #434B5C;\n",
              "      box-shadow: 0px 1px 3px 1px rgba(0, 0, 0, 0.15);\n",
              "      filter: drop-shadow(0px 1px 2px rgba(0, 0, 0, 0.3));\n",
              "      fill: #FFFFFF;\n",
              "    }\n",
              "  </style>\n",
              "\n",
              "    <script>\n",
              "      const buttonEl =\n",
              "        document.querySelector('#df-efbe63a6-3363-49d0-bb28-b9f3bdd95e41 button.colab-df-convert');\n",
              "      buttonEl.style.display =\n",
              "        google.colab.kernel.accessAllowed ? 'block' : 'none';\n",
              "\n",
              "      async function convertToInteractive(key) {\n",
              "        const element = document.querySelector('#df-efbe63a6-3363-49d0-bb28-b9f3bdd95e41');\n",
              "        const dataTable =\n",
              "          await google.colab.kernel.invokeFunction('convertToInteractive',\n",
              "                                                    [key], {});\n",
              "        if (!dataTable) return;\n",
              "\n",
              "        const docLinkHtml = 'Like what you see? Visit the ' +\n",
              "          '<a target=\"_blank\" href=https://colab.research.google.com/notebooks/data_table.ipynb>data table notebook</a>'\n",
              "          + ' to learn more about interactive tables.';\n",
              "        element.innerHTML = '';\n",
              "        dataTable['output_type'] = 'display_data';\n",
              "        await google.colab.output.renderOutput(dataTable, element);\n",
              "        const docLink = document.createElement('div');\n",
              "        docLink.innerHTML = docLinkHtml;\n",
              "        element.appendChild(docLink);\n",
              "      }\n",
              "    </script>\n",
              "  </div>\n",
              "\n",
              "\n",
              "<div id=\"df-8fd331a9-1503-4caf-9d59-eb91542107b6\">\n",
              "  <button class=\"colab-df-quickchart\" onclick=\"quickchart('df-8fd331a9-1503-4caf-9d59-eb91542107b6')\"\n",
              "            title=\"Suggest charts\"\n",
              "            style=\"display:none;\">\n",
              "\n",
              "<svg xmlns=\"http://www.w3.org/2000/svg\" height=\"24px\"viewBox=\"0 0 24 24\"\n",
              "     width=\"24px\">\n",
              "    <g>\n",
              "        <path d=\"M19 3H5c-1.1 0-2 .9-2 2v14c0 1.1.9 2 2 2h14c1.1 0 2-.9 2-2V5c0-1.1-.9-2-2-2zM9 17H7v-7h2v7zm4 0h-2V7h2v10zm4 0h-2v-4h2v4z\"/>\n",
              "    </g>\n",
              "</svg>\n",
              "  </button>\n",
              "\n",
              "<style>\n",
              "  .colab-df-quickchart {\n",
              "      --bg-color: #E8F0FE;\n",
              "      --fill-color: #1967D2;\n",
              "      --hover-bg-color: #E2EBFA;\n",
              "      --hover-fill-color: #174EA6;\n",
              "      --disabled-fill-color: #AAA;\n",
              "      --disabled-bg-color: #DDD;\n",
              "  }\n",
              "\n",
              "  [theme=dark] .colab-df-quickchart {\n",
              "      --bg-color: #3B4455;\n",
              "      --fill-color: #D2E3FC;\n",
              "      --hover-bg-color: #434B5C;\n",
              "      --hover-fill-color: #FFFFFF;\n",
              "      --disabled-bg-color: #3B4455;\n",
              "      --disabled-fill-color: #666;\n",
              "  }\n",
              "\n",
              "  .colab-df-quickchart {\n",
              "    background-color: var(--bg-color);\n",
              "    border: none;\n",
              "    border-radius: 50%;\n",
              "    cursor: pointer;\n",
              "    display: none;\n",
              "    fill: var(--fill-color);\n",
              "    height: 32px;\n",
              "    padding: 0;\n",
              "    width: 32px;\n",
              "  }\n",
              "\n",
              "  .colab-df-quickchart:hover {\n",
              "    background-color: var(--hover-bg-color);\n",
              "    box-shadow: 0 1px 2px rgba(60, 64, 67, 0.3), 0 1px 3px 1px rgba(60, 64, 67, 0.15);\n",
              "    fill: var(--button-hover-fill-color);\n",
              "  }\n",
              "\n",
              "  .colab-df-quickchart-complete:disabled,\n",
              "  .colab-df-quickchart-complete:disabled:hover {\n",
              "    background-color: var(--disabled-bg-color);\n",
              "    fill: var(--disabled-fill-color);\n",
              "    box-shadow: none;\n",
              "  }\n",
              "\n",
              "  .colab-df-spinner {\n",
              "    border: 2px solid var(--fill-color);\n",
              "    border-color: transparent;\n",
              "    border-bottom-color: var(--fill-color);\n",
              "    animation:\n",
              "      spin 1s steps(1) infinite;\n",
              "  }\n",
              "\n",
              "  @keyframes spin {\n",
              "    0% {\n",
              "      border-color: transparent;\n",
              "      border-bottom-color: var(--fill-color);\n",
              "      border-left-color: var(--fill-color);\n",
              "    }\n",
              "    20% {\n",
              "      border-color: transparent;\n",
              "      border-left-color: var(--fill-color);\n",
              "      border-top-color: var(--fill-color);\n",
              "    }\n",
              "    30% {\n",
              "      border-color: transparent;\n",
              "      border-left-color: var(--fill-color);\n",
              "      border-top-color: var(--fill-color);\n",
              "      border-right-color: var(--fill-color);\n",
              "    }\n",
              "    40% {\n",
              "      border-color: transparent;\n",
              "      border-right-color: var(--fill-color);\n",
              "      border-top-color: var(--fill-color);\n",
              "    }\n",
              "    60% {\n",
              "      border-color: transparent;\n",
              "      border-right-color: var(--fill-color);\n",
              "    }\n",
              "    80% {\n",
              "      border-color: transparent;\n",
              "      border-right-color: var(--fill-color);\n",
              "      border-bottom-color: var(--fill-color);\n",
              "    }\n",
              "    90% {\n",
              "      border-color: transparent;\n",
              "      border-bottom-color: var(--fill-color);\n",
              "    }\n",
              "  }\n",
              "</style>\n",
              "\n",
              "  <script>\n",
              "    async function quickchart(key) {\n",
              "      const quickchartButtonEl =\n",
              "        document.querySelector('#' + key + ' button');\n",
              "      quickchartButtonEl.disabled = true;  // To prevent multiple clicks.\n",
              "      quickchartButtonEl.classList.add('colab-df-spinner');\n",
              "      try {\n",
              "        const charts = await google.colab.kernel.invokeFunction(\n",
              "            'suggestCharts', [key], {});\n",
              "      } catch (error) {\n",
              "        console.error('Error during call to suggestCharts:', error);\n",
              "      }\n",
              "      quickchartButtonEl.classList.remove('colab-df-spinner');\n",
              "      quickchartButtonEl.classList.add('colab-df-quickchart-complete');\n",
              "    }\n",
              "    (() => {\n",
              "      let quickchartButtonEl =\n",
              "        document.querySelector('#df-8fd331a9-1503-4caf-9d59-eb91542107b6 button');\n",
              "      quickchartButtonEl.style.display =\n",
              "        google.colab.kernel.accessAllowed ? 'block' : 'none';\n",
              "    })();\n",
              "  </script>\n",
              "</div>\n",
              "\n",
              "  <div id=\"id_4456954f-26bc-44ba-9058-69f028b7ef11\">\n",
              "    <style>\n",
              "      .colab-df-generate {\n",
              "        background-color: #E8F0FE;\n",
              "        border: none;\n",
              "        border-radius: 50%;\n",
              "        cursor: pointer;\n",
              "        display: none;\n",
              "        fill: #1967D2;\n",
              "        height: 32px;\n",
              "        padding: 0 0 0 0;\n",
              "        width: 32px;\n",
              "      }\n",
              "\n",
              "      .colab-df-generate:hover {\n",
              "        background-color: #E2EBFA;\n",
              "        box-shadow: 0px 1px 2px rgba(60, 64, 67, 0.3), 0px 1px 3px 1px rgba(60, 64, 67, 0.15);\n",
              "        fill: #174EA6;\n",
              "      }\n",
              "\n",
              "      [theme=dark] .colab-df-generate {\n",
              "        background-color: #3B4455;\n",
              "        fill: #D2E3FC;\n",
              "      }\n",
              "\n",
              "      [theme=dark] .colab-df-generate:hover {\n",
              "        background-color: #434B5C;\n",
              "        box-shadow: 0px 1px 3px 1px rgba(0, 0, 0, 0.15);\n",
              "        filter: drop-shadow(0px 1px 2px rgba(0, 0, 0, 0.3));\n",
              "        fill: #FFFFFF;\n",
              "      }\n",
              "    </style>\n",
              "    <button class=\"colab-df-generate\" onclick=\"generateWithVariable('series_df')\"\n",
              "            title=\"Generate code using this dataframe.\"\n",
              "            style=\"display:none;\">\n",
              "\n",
              "  <svg xmlns=\"http://www.w3.org/2000/svg\" height=\"24px\"viewBox=\"0 0 24 24\"\n",
              "       width=\"24px\">\n",
              "    <path d=\"M7,19H8.4L18.45,9,17,7.55,7,17.6ZM5,21V16.75L18.45,3.32a2,2,0,0,1,2.83,0l1.4,1.43a1.91,1.91,0,0,1,.58,1.4,1.91,1.91,0,0,1-.58,1.4L9.25,21ZM18.45,9,17,7.55Zm-12,3A5.31,5.31,0,0,0,4.9,8.1,5.31,5.31,0,0,0,1,6.5,5.31,5.31,0,0,0,4.9,4.9,5.31,5.31,0,0,0,6.5,1,5.31,5.31,0,0,0,8.1,4.9,5.31,5.31,0,0,0,12,6.5,5.46,5.46,0,0,0,6.5,12Z\"/>\n",
              "  </svg>\n",
              "    </button>\n",
              "    <script>\n",
              "      (() => {\n",
              "      const buttonEl =\n",
              "        document.querySelector('#id_4456954f-26bc-44ba-9058-69f028b7ef11 button.colab-df-generate');\n",
              "      buttonEl.style.display =\n",
              "        google.colab.kernel.accessAllowed ? 'block' : 'none';\n",
              "\n",
              "      buttonEl.onclick = () => {\n",
              "        google.colab.notebook.generateWithVariable('series_df');\n",
              "      }\n",
              "      })();\n",
              "    </script>\n",
              "  </div>\n",
              "\n",
              "    </div>\n",
              "  </div>\n"
            ],
            "application/vnd.google.colaboratory.intrinsic+json": {
              "type": "dataframe",
              "variable_name": "series_df",
              "summary": "{\n  \"name\": \"series_df\",\n  \"rows\": 2,\n  \"fields\": [\n    {\n      \"column\": \"amount\",\n      \"properties\": {\n        \"dtype\": \"number\",\n        \"std\": 792157665370.0199,\n        \"min\": 12056415427.84,\n        \"max\": 1132336529331.93,\n        \"num_unique_values\": 2,\n        \"samples\": [\n          12056415427.84,\n          1132336529331.93\n        ],\n        \"semantic_type\": \"\",\n        \"description\": \"\"\n      }\n    }\n  ]\n}"
            }
          },
          "metadata": {},
          "execution_count": 24
        }
      ]
    },
    {
      "cell_type": "code",
      "source": [
        "sns.barplot(x='isFraud' , y='amount' , data=series_df , palette = \"Dark2\")"
      ],
      "metadata": {
        "colab": {
          "base_uri": "https://localhost:8080/",
          "height": 482
        },
        "id": "iUO6HmQd5ce1",
        "outputId": "57f4332d-1f3d-4eb5-b7fd-f7a495b90247"
      },
      "execution_count": 25,
      "outputs": [
        {
          "output_type": "execute_result",
          "data": {
            "text/plain": [
              "<Axes: xlabel='isFraud', ylabel='amount'>"
            ]
          },
          "metadata": {},
          "execution_count": 25
        },
        {
          "output_type": "display_data",
          "data": {
            "text/plain": [
              "<Figure size 640x480 with 1 Axes>"
            ],
            "image/png": "[encoded data removed]"
          },
          "metadata": {}
        }
      ]
    },
    {
      "cell_type": "markdown",
      "source": [
        "## Conclusion"
      ],
      "metadata": {
        "id": "fFG_uQm25ZAg"
      }
    },
    {
      "cell_type": "markdown",
      "source": [
        "#### Total of Fraud amount =1205.642 crore\n",
        "#### Total of legal amount= 11323370 crore"
      ],
      "metadata": {
        "id": "E6x4gRAY9C9H"
      }
    },
    {
      "cell_type": "markdown",
      "source": [
        "\n",
        "\n",
        "---\n",
        "\n",
        "\n",
        "\n",
        "---\n",
        "\n",
        "\n",
        "\n",
        "---\n",
        "\n"
      ],
      "metadata": {
        "id": "eUuji0AbDBTx"
      }
    },
    {
      "cell_type": "markdown",
      "source": [
        "## Observation-5"
      ],
      "metadata": {
        "id": "IDDPrpTTCfwq"
      }
    },
    {
      "cell_type": "code",
      "source": [
        "fraud_df=data[data['isFraud']==1]"
      ],
      "metadata": {
        "id": "jEvJ8E7wAz05"
      },
      "execution_count": 26,
      "outputs": []
    },
    {
      "cell_type": "code",
      "source": [
        "fraud_df['type'].value_counts()"
      ],
      "metadata": {
        "colab": {
          "base_uri": "https://localhost:8080/"
        },
        "id": "ydQEWVuJHgV2",
        "outputId": "0e1826ee-1d3c-4c8a-f9c3-4316f2d7e42d"
      },
      "execution_count": 27,
      "outputs": [
        {
          "output_type": "execute_result",
          "data": {
            "text/plain": [
              "CASH_OUT    4116\n",
              "TRANSFER    4097\n",
              "Name: type, dtype: int64"
            ]
          },
          "metadata": {},
          "execution_count": 27
        }
      ]
    },
    {
      "cell_type": "code",
      "source": [
        "sns.countplot(x=fraud_df['type'] , data=fraud_df ,palette = \"Dark2\"  )"
      ],
      "metadata": {
        "colab": {
          "base_uri": "https://localhost:8080/",
          "height": 466
        },
        "id": "sg64gNBPBvJp",
        "outputId": "0f693579-986d-4af0-e09b-8659ba0bc729"
      },
      "execution_count": 28,
      "outputs": [
        {
          "output_type": "execute_result",
          "data": {
            "text/plain": [
              "<Axes: xlabel='type', ylabel='count'>"
            ]
          },
          "metadata": {},
          "execution_count": 28
        },
        {
          "output_type": "display_data",
          "data": {
            "text/plain": [
              "<Figure size 640x480 with 1 Axes>"
            ],
            "image/png": "[encoded data removed]"
          },
          "metadata": {}
        }
      ]
    },
    {
      "cell_type": "code",
      "source": [
        "series=fraud_df.groupby('type')['amount'].sum()"
      ],
      "metadata": {
        "id": "bH_DFhWgC52E"
      },
      "execution_count": 29,
      "outputs": []
    },
    {
      "cell_type": "code",
      "source": [
        "series_df=pd.DataFrame(series)"
      ],
      "metadata": {
        "id": "FhuCqt-6H53G"
      },
      "execution_count": 30,
      "outputs": []
    },
    {
      "cell_type": "code",
      "source": [
        "series_df"
      ],
      "metadata": {
        "colab": {
          "base_uri": "https://localhost:8080/",
          "height": 143
        },
        "id": "sQ2LR11TIOPU",
        "outputId": "661d2f00-d20a-405d-a7ea-1f60e6efa51f"
      },
      "execution_count": 31,
      "outputs": [
        {
          "output_type": "execute_result",
          "data": {
            "text/plain": [
              "                amount\n",
              "type                  \n",
              "CASH_OUT  5.989202e+09\n",
              "TRANSFER  6.067213e+09"
            ],
            "text/html": [
              "\n",
              "  <div id=\"df-65447312-6ec6-4d44-a614-654381affc43\" class=\"colab-df-container\">\n",
              "    <div>\n",
              "<style scoped>\n",
              "    .dataframe tbody tr th:only-of-type {\n",
              "        vertical-align: middle;\n",
              "    }\n",
              "\n",
              "    .dataframe tbody tr th {\n",
              "        vertical-align: top;\n",
              "    }\n",
              "\n",
              "    .dataframe thead th {\n",
              "        text-align: right;\n",
              "    }\n",
              "</style>\n",
              "<table border=\"1\" class=\"dataframe\">\n",
              "  <thead>\n",
              "    <tr style=\"text-align: right;\">\n",
              "      <th></th>\n",
              "      <th>amount</th>\n",
              "    </tr>\n",
              "    <tr>\n",
              "      <th>type</th>\n",
              "      <th></th>\n",
              "    </tr>\n",
              "  </thead>\n",
              "  <tbody>\n",
              "    <tr>\n",
              "      <th>CASH_OUT</th>\n",
              "      <td>5.989202e+09</td>\n",
              "    </tr>\n",
              "    <tr>\n",
              "      <th>TRANSFER</th>\n",
              "      <td>6.067213e+09</td>\n",
              "    </tr>\n",
              "  </tbody>\n",
              "</table>\n",
              "</div>\n",
              "    <div class=\"colab-df-buttons\">\n",
              "\n",
              "  <div class=\"colab-df-container\">\n",
              "    <button class=\"colab-df-convert\" onclick=\"convertToInteractive('df-65447312-6ec6-4d44-a614-654381affc43')\"\n",
              "            title=\"Convert this dataframe to an interactive table.\"\n",
              "            style=\"display:none;\">\n",
              "\n",
              "  <svg xmlns=\"http://www.w3.org/2000/svg\" height=\"24px\" viewBox=\"0 -960 960 960\">\n",
              "    <path d=\"M120-120v-720h720v720H120Zm60-500h600v-160H180v160Zm220 220h160v-160H400v160Zm0 220h160v-160H400v160ZM180-400h160v-160H180v160Zm440 0h160v-160H620v160ZM180-180h160v-160H180v160Zm440 0h160v-160H620v160Z\"/>\n",
              "  </svg>\n",
              "    </button>\n",
              "\n",
              "  <style>\n",
              "    .colab-df-container {\n",
              "      display:flex;\n",
              "      gap: 12px;\n",
              "    }\n",
              "\n",
              "    .colab-df-convert {\n",
              "      background-color: #E8F0FE;\n",
              "      border: none;\n",
              "      border-radius: 50%;\n",
              "      cursor: pointer;\n",
              "      display: none;\n",
              "      fill: #1967D2;\n",
              "      height: 32px;\n",
              "      padding: 0 0 0 0;\n",
              "      width: 32px;\n",
              "    }\n",
              "\n",
              "    .colab-df-convert:hover {\n",
              "      background-color: #E2EBFA;\n",
              "      box-shadow: 0px 1px 2px rgba(60, 64, 67, 0.3), 0px 1px 3px 1px rgba(60, 64, 67, 0.15);\n",
              "      fill: #174EA6;\n",
              "    }\n",
              "\n",
              "    .colab-df-buttons div {\n",
              "      margin-bottom: 4px;\n",
              "    }\n",
              "\n",
              "    [theme=dark] .colab-df-convert {\n",
              "      background-color: #3B4455;\n",
              "      fill: #D2E3FC;\n",
              "    }\n",
              "\n",
              "    [theme=dark] .colab-df-convert:hover {\n",
              "      background-color: #434B5C;\n",
              "      box-shadow: 0px 1px 3px 1px rgba(0, 0, 0, 0.15);\n",
              "      filter: drop-shadow(0px 1px 2px rgba(0, 0, 0, 0.3));\n",
              "      fill: #FFFFFF;\n",
              "    }\n",
              "  </style>\n",
              "\n",
              "    <script>\n",
              "      const buttonEl =\n",
              "        document.querySelector('#df-65447312-6ec6-4d44-a614-654381affc43 button.colab-df-convert');\n",
              "      buttonEl.style.display =\n",
              "        google.colab.kernel.accessAllowed ? 'block' : 'none';\n",
              "\n",
              "      async function convertToInteractive(key) {\n",
              "        const element = document.querySelector('#df-65447312-6ec6-4d44-a614-654381affc43');\n",
              "        const dataTable =\n",
              "          await google.colab.kernel.invokeFunction('convertToInteractive',\n",
              "                                                    [key], {});\n",
              "        if (!dataTable) return;\n",
              "\n",
              "        const docLinkHtml = 'Like what you see? Visit the ' +\n",
              "          '<a target=\"_blank\" href=https://colab.research.google.com/notebooks/data_table.ipynb>data table notebook</a>'\n",
              "          + ' to learn more about interactive tables.';\n",
              "        element.innerHTML = '';\n",
              "        dataTable['output_type'] = 'display_data';\n",
              "        await google.colab.output.renderOutput(dataTable, element);\n",
              "        const docLink = document.createElement('div');\n",
              "        docLink.innerHTML = docLinkHtml;\n",
              "        element.appendChild(docLink);\n",
              "      }\n",
              "    </script>\n",
              "  </div>\n",
              "\n",
              "\n",
              "<div id=\"df-81053712-ba33-4744-8300-978fe1874b09\">\n",
              "  <button class=\"colab-df-quickchart\" onclick=\"quickchart('df-81053712-ba33-4744-8300-978fe1874b09')\"\n",
              "            title=\"Suggest charts\"\n",
              "            style=\"display:none;\">\n",
              "\n",
              "<svg xmlns=\"http://www.w3.org/2000/svg\" height=\"24px\"viewBox=\"0 0 24 24\"\n",
              "     width=\"24px\">\n",
              "    <g>\n",
              "        <path d=\"M19 3H5c-1.1 0-2 .9-2 2v14c0 1.1.9 2 2 2h14c1.1 0 2-.9 2-2V5c0-1.1-.9-2-2-2zM9 17H7v-7h2v7zm4 0h-2V7h2v10zm4 0h-2v-4h2v4z\"/>\n",
              "    </g>\n",
              "</svg>\n",
              "  </button>\n",
              "\n",
              "<style>\n",
              "  .colab-df-quickchart {\n",
              "      --bg-color: #E8F0FE;\n",
              "      --fill-color: #1967D2;\n",
              "      --hover-bg-color: #E2EBFA;\n",
              "      --hover-fill-color: #174EA6;\n",
              "      --disabled-fill-color: #AAA;\n",
              "      --disabled-bg-color: #DDD;\n",
              "  }\n",
              "\n",
              "  [theme=dark] .colab-df-quickchart {\n",
              "      --bg-color: #3B4455;\n",
              "      --fill-color: #D2E3FC;\n",
              "      --hover-bg-color: #434B5C;\n",
              "      --hover-fill-color: #FFFFFF;\n",
              "      --disabled-bg-color: #3B4455;\n",
              "      --disabled-fill-color: #666;\n",
              "  }\n",
              "\n",
              "  .colab-df-quickchart {\n",
              "    background-color: var(--bg-color);\n",
              "    border: none;\n",
              "    border-radius: 50%;\n",
              "    cursor: pointer;\n",
              "    display: none;\n",
              "    fill: var(--fill-color);\n",
              "    height: 32px;\n",
              "    padding: 0;\n",
              "    width: 32px;\n",
              "  }\n",
              "\n",
              "  .colab-df-quickchart:hover {\n",
              "    background-color: var(--hover-bg-color);\n",
              "    box-shadow: 0 1px 2px rgba(60, 64, 67, 0.3), 0 1px 3px 1px rgba(60, 64, 67, 0.15);\n",
              "    fill: var(--button-hover-fill-color);\n",
              "  }\n",
              "\n",
              "  .colab-df-quickchart-complete:disabled,\n",
              "  .colab-df-quickchart-complete:disabled:hover {\n",
              "    background-color: var(--disabled-bg-color);\n",
              "    fill: var(--disabled-fill-color);\n",
              "    box-shadow: none;\n",
              "  }\n",
              "\n",
              "  .colab-df-spinner {\n",
              "    border: 2px solid var(--fill-color);\n",
              "    border-color: transparent;\n",
              "    border-bottom-color: var(--fill-color);\n",
              "    animation:\n",
              "      spin 1s steps(1) infinite;\n",
              "  }\n",
              "\n",
              "  @keyframes spin {\n",
              "    0% {\n",
              "      border-color: transparent;\n",
              "      border-bottom-color: var(--fill-color);\n",
              "      border-left-color: var(--fill-color);\n",
              "    }\n",
              "    20% {\n",
              "      border-color: transparent;\n",
              "      border-left-color: var(--fill-color);\n",
              "      border-top-color: var(--fill-color);\n",
              "    }\n",
              "    30% {\n",
              "      border-color: transparent;\n",
              "      border-left-color: var(--fill-color);\n",
              "      border-top-color: var(--fill-color);\n",
              "      border-right-color: var(--fill-color);\n",
              "    }\n",
              "    40% {\n",
              "      border-color: transparent;\n",
              "      border-right-color: var(--fill-color);\n",
              "      border-top-color: var(--fill-color);\n",
              "    }\n",
              "    60% {\n",
              "      border-color: transparent;\n",
              "      border-right-color: var(--fill-color);\n",
              "    }\n",
              "    80% {\n",
              "      border-color: transparent;\n",
              "      border-right-color: var(--fill-color);\n",
              "      border-bottom-color: var(--fill-color);\n",
              "    }\n",
              "    90% {\n",
              "      border-color: transparent;\n",
              "      border-bottom-color: var(--fill-color);\n",
              "    }\n",
              "  }\n",
              "</style>\n",
              "\n",
              "  <script>\n",
              "    async function quickchart(key) {\n",
              "      const quickchartButtonEl =\n",
              "        document.querySelector('#' + key + ' button');\n",
              "      quickchartButtonEl.disabled = true;  // To prevent multiple clicks.\n",
              "      quickchartButtonEl.classList.add('colab-df-spinner');\n",
              "      try {\n",
              "        const charts = await google.colab.kernel.invokeFunction(\n",
              "            'suggestCharts', [key], {});\n",
              "      } catch (error) {\n",
              "        console.error('Error during call to suggestCharts:', error);\n",
              "      }\n",
              "      quickchartButtonEl.classList.remove('colab-df-spinner');\n",
              "      quickchartButtonEl.classList.add('colab-df-quickchart-complete');\n",
              "    }\n",
              "    (() => {\n",
              "      let quickchartButtonEl =\n",
              "        document.querySelector('#df-81053712-ba33-4744-8300-978fe1874b09 button');\n",
              "      quickchartButtonEl.style.display =\n",
              "        google.colab.kernel.accessAllowed ? 'block' : 'none';\n",
              "    })();\n",
              "  </script>\n",
              "</div>\n",
              "\n",
              "  <div id=\"id_8b833473-9b4e-4813-a23c-8fc35907c2c7\">\n",
              "    <style>\n",
              "      .colab-df-generate {\n",
              "        background-color: #E8F0FE;\n",
              "        border: none;\n",
              "        border-radius: 50%;\n",
              "        cursor: pointer;\n",
              "        display: none;\n",
              "        fill: #1967D2;\n",
              "        height: 32px;\n",
              "        padding: 0 0 0 0;\n",
              "        width: 32px;\n",
              "      }\n",
              "\n",
              "      .colab-df-generate:hover {\n",
              "        background-color: #E2EBFA;\n",
              "        box-shadow: 0px 1px 2px rgba(60, 64, 67, 0.3), 0px 1px 3px 1px rgba(60, 64, 67, 0.15);\n",
              "        fill: #174EA6;\n",
              "      }\n",
              "\n",
              "      [theme=dark] .colab-df-generate {\n",
              "        background-color: #3B4455;\n",
              "        fill: #D2E3FC;\n",
              "      }\n",
              "\n",
              "      [theme=dark] .colab-df-generate:hover {\n",
              "        background-color: #434B5C;\n",
              "        box-shadow: 0px 1px 3px 1px rgba(0, 0, 0, 0.15);\n",
              "        filter: drop-shadow(0px 1px 2px rgba(0, 0, 0, 0.3));\n",
              "        fill: #FFFFFF;\n",
              "      }\n",
              "    </style>\n",
              "    <button class=\"colab-df-generate\" onclick=\"generateWithVariable('series_df')\"\n",
              "            title=\"Generate code using this dataframe.\"\n",
              "            style=\"display:none;\">\n",
              "\n",
              "  <svg xmlns=\"http://www.w3.org/2000/svg\" height=\"24px\"viewBox=\"0 0 24 24\"\n",
              "       width=\"24px\">\n",
              "    <path d=\"M7,19H8.4L18.45,9,17,7.55,7,17.6ZM5,21V16.75L18.45,3.32a2,2,0,0,1,2.83,0l1.4,1.43a1.91,1.91,0,0,1,.58,1.4,1.91,1.91,0,0,1-.58,1.4L9.25,21ZM18.45,9,17,7.55Zm-12,3A5.31,5.31,0,0,0,4.9,8.1,5.31,5.31,0,0,0,1,6.5,5.31,5.31,0,0,0,4.9,4.9,5.31,5.31,0,0,0,6.5,1,5.31,5.31,0,0,0,8.1,4.9,5.31,5.31,0,0,0,12,6.5,5.46,5.46,0,0,0,6.5,12Z\"/>\n",
              "  </svg>\n",
              "    </button>\n",
              "    <script>\n",
              "      (() => {\n",
              "      const buttonEl =\n",
              "        document.querySelector('#id_8b833473-9b4e-4813-a23c-8fc35907c2c7 button.colab-df-generate');\n",
              "      buttonEl.style.display =\n",
              "        google.colab.kernel.accessAllowed ? 'block' : 'none';\n",
              "\n",
              "      buttonEl.onclick = () => {\n",
              "        google.colab.notebook.generateWithVariable('series_df');\n",
              "      }\n",
              "      })();\n",
              "    </script>\n",
              "  </div>\n",
              "\n",
              "    </div>\n",
              "  </div>\n"
            ],
            "application/vnd.google.colaboratory.intrinsic+json": {
              "type": "dataframe",
              "variable_name": "series_df",
              "summary": "{\n  \"name\": \"series_df\",\n  \"rows\": 2,\n  \"fields\": [\n    {\n      \"column\": \"amount\",\n      \"properties\": {\n        \"dtype\": \"number\",\n        \"std\": 55162064.80801632,\n        \"min\": 5989202243.83,\n        \"max\": 6067213184.01,\n        \"num_unique_values\": 2,\n        \"samples\": [\n          6067213184.01,\n          5989202243.83\n        ],\n        \"semantic_type\": \"\",\n        \"description\": \"\"\n      }\n    }\n  ]\n}"
            }
          },
          "metadata": {},
          "execution_count": 31
        }
      ]
    },
    {
      "cell_type": "code",
      "source": [
        "sns.barplot(x=\"type\" , y=\"amount\" , data=fraud_df ,palette = \"Dark2\" )"
      ],
      "metadata": {
        "colab": {
          "base_uri": "https://localhost:8080/",
          "height": 482
        },
        "id": "0N7vGqh9ICbt",
        "outputId": "30712a5e-5695-48da-eb5e-cecfde1e56ec"
      },
      "execution_count": 32,
      "outputs": [
        {
          "output_type": "execute_result",
          "data": {
            "text/plain": [
              "<Axes: xlabel='type', ylabel='amount'>"
            ]
          },
          "metadata": {},
          "execution_count": 32
        },
        {
          "output_type": "display_data",
          "data": {
            "text/plain": [
              "<Figure size 640x480 with 1 Axes>"
            ],
            "image/png": "[encoded data removed]"
          },
          "metadata": {}
        }
      ]
    },
    {
      "cell_type": "markdown",
      "source": [
        "## Conclusion"
      ],
      "metadata": {
        "id": "P3Aa_xuwDDVv"
      }
    },
    {
      "cell_type": "markdown",
      "source": [
        "#### Fraud transactions contains only 2 amount type \"TRANSFER\" & \"CASH_OUT\" and both are same\n",
        "#### Total fraud amount of the the type are also same"
      ],
      "metadata": {
        "id": "d2-kjW9_CnCB"
      }
    },
    {
      "cell_type": "markdown",
      "source": [
        "\n",
        "\n",
        "---\n",
        "\n",
        "\n",
        "\n",
        "---\n",
        "\n",
        "\n",
        "\n",
        "---\n",
        "\n"
      ],
      "metadata": {
        "id": "Cj4E6wi4DGir"
      }
    },
    {
      "cell_type": "code",
      "source": [
        "corr=data.corr()\n",
        "\n",
        "plt.figure(figsize=(10,10))\n",
        "sns.heatmap(corr,annot=True)"
      ],
      "metadata": {
        "colab": {
          "base_uri": "https://localhost:8080/",
          "height": 954
        },
        "id": "KraSqPKIJXWZ",
        "outputId": "c21046bd-26ea-4dec-a4f7-a7254c824808"
      },
      "execution_count": 33,
      "outputs": [
        {
          "output_type": "execute_result",
          "data": {
            "text/plain": [
              "<Axes: >"
            ]
          },
          "metadata": {},
          "execution_count": 33
        },
        {
          "output_type": "display_data",
          "data": {
            "text/plain": [
              "<Figure size 1000x1000 with 2 Axes>"
            ],
            "image/png": "[encoded data removed]"
          },
          "metadata": {}
        }
      ]
    },
    {
      "cell_type": "markdown",
      "source": [
        "# 5. Data Pre-Processing"
      ],
      "metadata": {
        "id": "zQe2XCrmL1S1"
      }
    },
    {
      "cell_type": "code",
      "source": [
        "from sklearn.model_selection import train_test_split\n",
        "from sklearn.preprocessing import StandardScaler\n",
        "from sklearn.preprocessing import LabelEncoder"
      ],
      "metadata": {
        "id": "3w1BxkUjJj5H"
      },
      "execution_count": 34,
      "outputs": []
    },
    {
      "cell_type": "code",
      "source": [
        "data.nunique(axis=0)"
      ],
      "metadata": {
        "colab": {
          "base_uri": "https://localhost:8080/"
        },
        "id": "nAOv04veMLNR",
        "outputId": "feeb012f-022f-4793-fb14-170204647285"
      },
      "execution_count": 35,
      "outputs": [
        {
          "output_type": "execute_result",
          "data": {
            "text/plain": [
              "step                  743\n",
              "type                    5\n",
              "amount            5316900\n",
              "nameOrig          6353307\n",
              "oldbalanceOrg     1845844\n",
              "newbalanceOrig    2682586\n",
              "nameDest          2722362\n",
              "oldbalanceDest    3614697\n",
              "newbalanceDest    3555499\n",
              "isFraud                 2\n",
              "isFlaggedFraud          2\n",
              "dtype: int64"
            ]
          },
          "metadata": {},
          "execution_count": 35
        }
      ]
    },
    {
      "cell_type": "markdown",
      "source": [
        "#### Here we are dropping some of the columns because these columns will not create an major impact on the accuracy because there are many unique values in the column where dtype is \"object\""
      ],
      "metadata": {
        "id": "PSRXck7CMkgK"
      }
    },
    {
      "cell_type": "markdown",
      "source": [
        "#### These columns are 'step', 'nameOrig', 'nameDest', 'isFlaggedFraud'"
      ],
      "metadata": {
        "id": "Sfhw1Ke1NlMy"
      }
    },
    {
      "cell_type": "code",
      "source": [
        "data1=data.drop(['step','nameOrig','nameDest','isFlaggedFraud'],axis=1)"
      ],
      "metadata": {
        "id": "Ghp9r4BYNkc_"
      },
      "execution_count": 36,
      "outputs": []
    },
    {
      "cell_type": "code",
      "source": [
        "data1"
      ],
      "metadata": {
        "colab": {
          "base_uri": "https://localhost:8080/",
          "height": 423
        },
        "id": "zsCqBVd3N7eh",
        "outputId": "b67df87b-2b9c-4a1b-f24c-87f3ae7b5f06"
      },
      "execution_count": 37,
      "outputs": [
        {
          "output_type": "execute_result",
          "data": {
            "text/plain": [
              "             type      amount  oldbalanceOrg  newbalanceOrig  oldbalanceDest  \\\n",
              "0         PAYMENT     9839.64      170136.00       160296.36            0.00   \n",
              "1         PAYMENT     1864.28       21249.00        19384.72            0.00   \n",
              "2        TRANSFER      181.00         181.00            0.00            0.00   \n",
              "3        CASH_OUT      181.00         181.00            0.00        21182.00   \n",
              "4         PAYMENT    11668.14       41554.00        29885.86            0.00   \n",
              "...           ...         ...            ...             ...             ...   \n",
              "6362615  CASH_OUT   339682.13      339682.13            0.00            0.00   \n",
              "6362616  TRANSFER  6311409.28     6311409.28            0.00            0.00   \n",
              "6362617  CASH_OUT  6311409.28     6311409.28            0.00        68488.84   \n",
              "6362618  TRANSFER   850002.52      850002.52            0.00            0.00   \n",
              "6362619  CASH_OUT   850002.52      850002.52            0.00      6510099.11   \n",
              "\n",
              "         newbalanceDest  isFraud  \n",
              "0                  0.00        0  \n",
              "1                  0.00        0  \n",
              "2                  0.00        1  \n",
              "3                  0.00        1  \n",
              "4                  0.00        0  \n",
              "...                 ...      ...  \n",
              "6362615       339682.13        1  \n",
              "6362616            0.00        1  \n",
              "6362617      6379898.11        1  \n",
              "6362618            0.00        1  \n",
              "6362619      7360101.63        1  \n",
              "\n",
              "[6362620 rows x 7 columns]"
            ],
            "text/html": [
              "\n",
              "  <div id=\"df-25884255-ed82-4f89-b3bb-5fc8bfeadba9\" class=\"colab-df-container\">\n",
              "    <div>\n",
              "<style scoped>\n",
              "    .dataframe tbody tr th:only-of-type {\n",
              "        vertical-align: middle;\n",
              "    }\n",
              "\n",
              "    .dataframe tbody tr th {\n",
              "        vertical-align: top;\n",
              "    }\n",
              "\n",
              "    .dataframe thead th {\n",
              "        text-align: right;\n",
              "    }\n",
              "</style>\n",
              "<table border=\"1\" class=\"dataframe\">\n",
              "  <thead>\n",
              "    <tr style=\"text-align: right;\">\n",
              "      <th></th>\n",
              "      <th>type</th>\n",
              "      <th>amount</th>\n",
              "      <th>oldbalanceOrg</th>\n",
              "      <th>newbalanceOrig</th>\n",
              "      <th>oldbalanceDest</th>\n",
              "      <th>newbalanceDest</th>\n",
              "      <th>isFraud</th>\n",
              "    </tr>\n",
              "  </thead>\n",
              "  <tbody>\n",
              "    <tr>\n",
              "      <th>0</th>\n",
              "      <td>PAYMENT</td>\n",
              "      <td>9839.64</td>\n",
              "      <td>170136.00</td>\n",
              "      <td>160296.36</td>\n",
              "      <td>0.00</td>\n",
              "      <td>0.00</td>\n",
              "      <td>0</td>\n",
              "    </tr>\n",
              "    <tr>\n",
              "      <th>1</th>\n",
              "      <td>PAYMENT</td>\n",
              "      <td>1864.28</td>\n",
              "      <td>21249.00</td>\n",
              "      <td>19384.72</td>\n",
              "      <td>0.00</td>\n",
              "      <td>0.00</td>\n",
              "      <td>0</td>\n",
              "    </tr>\n",
              "    <tr>\n",
              "      <th>2</th>\n",
              "      <td>TRANSFER</td>\n",
              "      <td>181.00</td>\n",
              "      <td>181.00</td>\n",
              "      <td>0.00</td>\n",
              "      <td>0.00</td>\n",
              "      <td>0.00</td>\n",
              "      <td>1</td>\n",
              "    </tr>\n",
              "    <tr>\n",
              "      <th>3</th>\n",
              "      <td>CASH_OUT</td>\n",
              "      <td>181.00</td>\n",
              "      <td>181.00</td>\n",
              "      <td>0.00</td>\n",
              "      <td>21182.00</td>\n",
              "      <td>0.00</td>\n",
              "      <td>1</td>\n",
              "    </tr>\n",
              "    <tr>\n",
              "      <th>4</th>\n",
              "      <td>PAYMENT</td>\n",
              "      <td>11668.14</td>\n",
              "      <td>41554.00</td>\n",
              "      <td>29885.86</td>\n",
              "      <td>0.00</td>\n",
              "      <td>0.00</td>\n",
              "      <td>0</td>\n",
              "    </tr>\n",
              "    <tr>\n",
              "      <th>...</th>\n",
              "      <td>...</td>\n",
              "      <td>...</td>\n",
              "      <td>...</td>\n",
              "      <td>...</td>\n",
              "      <td>...</td>\n",
              "      <td>...</td>\n",
              "      <td>...</td>\n",
              "    </tr>\n",
              "    <tr>\n",
              "      <th>6362615</th>\n",
              "      <td>CASH_OUT</td>\n",
              "      <td>339682.13</td>\n",
              "      <td>339682.13</td>\n",
              "      <td>0.00</td>\n",
              "      <td>0.00</td>\n",
              "      <td>339682.13</td>\n",
              "      <td>1</td>\n",
              "    </tr>\n",
              "    <tr>\n",
              "      <th>6362616</th>\n",
              "      <td>TRANSFER</td>\n",
              "      <td>6311409.28</td>\n",
              "      <td>6311409.28</td>\n",
              "      <td>0.00</td>\n",
              "      <td>0.00</td>\n",
              "      <td>0.00</td>\n",
              "      <td>1</td>\n",
              "    </tr>\n",
              "    <tr>\n",
              "      <th>6362617</th>\n",
              "      <td>CASH_OUT</td>\n",
              "      <td>6311409.28</td>\n",
              "      <td>6311409.28</td>\n",
              "      <td>0.00</td>\n",
              "      <td>68488.84</td>\n",
              "      <td>6379898.11</td>\n",
              "      <td>1</td>\n",
              "    </tr>\n",
              "    <tr>\n",
              "      <th>6362618</th>\n",
              "      <td>TRANSFER</td>\n",
              "      <td>850002.52</td>\n",
              "      <td>850002.52</td>\n",
              "      <td>0.00</td>\n",
              "      <td>0.00</td>\n",
              "      <td>0.00</td>\n",
              "      <td>1</td>\n",
              "    </tr>\n",
              "    <tr>\n",
              "      <th>6362619</th>\n",
              "      <td>CASH_OUT</td>\n",
              "      <td>850002.52</td>\n",
              "      <td>850002.52</td>\n",
              "      <td>0.00</td>\n",
              "      <td>6510099.11</td>\n",
              "      <td>7360101.63</td>\n",
              "      <td>1</td>\n",
              "    </tr>\n",
              "  </tbody>\n",
              "</table>\n",
              "<p>6362620 rows × 7 columns</p>\n",
              "</div>\n",
              "    <div class=\"colab-df-buttons\">\n",
              "\n",
              "  <div class=\"colab-df-container\">\n",
              "    <button class=\"colab-df-convert\" onclick=\"convertToInteractive('df-25884255-ed82-4f89-b3bb-5fc8bfeadba9')\"\n",
              "            title=\"Convert this dataframe to an interactive table.\"\n",
              "            style=\"display:none;\">\n",
              "\n",
              "  <svg xmlns=\"http://www.w3.org/2000/svg\" height=\"24px\" viewBox=\"0 -960 960 960\">\n",
              "    <path d=\"M120-120v-720h720v720H120Zm60-500h600v-160H180v160Zm220 220h160v-160H400v160Zm0 220h160v-160H400v160ZM180-400h160v-160H180v160Zm440 0h160v-160H620v160ZM180-180h160v-160H180v160Zm440 0h160v-160H620v160Z\"/>\n",
              "  </svg>\n",
              "    </button>\n",
              "\n",
              "  <style>\n",
              "    .colab-df-container {\n",
              "      display:flex;\n",
              "      gap: 12px;\n",
              "    }\n",
              "\n",
              "    .colab-df-convert {\n",
              "      background-color: #E8F0FE;\n",
              "      border: none;\n",
              "      border-radius: 50%;\n",
              "      cursor: pointer;\n",
              "      display: none;\n",
              "      fill: #1967D2;\n",
              "      height: 32px;\n",
              "      padding: 0 0 0 0;\n",
              "      width: 32px;\n",
              "    }\n",
              "\n",
              "    .colab-df-convert:hover {\n",
              "      background-color: #E2EBFA;\n",
              "      box-shadow: 0px 1px 2px rgba(60, 64, 67, 0.3), 0px 1px 3px 1px rgba(60, 64, 67, 0.15);\n",
              "      fill: #174EA6;\n",
              "    }\n",
              "\n",
              "    .colab-df-buttons div {\n",
              "      margin-bottom: 4px;\n",
              "    }\n",
              "\n",
              "    [theme=dark] .colab-df-convert {\n",
              "      background-color: #3B4455;\n",
              "      fill: #D2E3FC;\n",
              "    }\n",
              "\n",
              "    [theme=dark] .colab-df-convert:hover {\n",
              "      background-color: #434B5C;\n",
              "      box-shadow: 0px 1px 3px 1px rgba(0, 0, 0, 0.15);\n",
              "      filter: drop-shadow(0px 1px 2px rgba(0, 0, 0, 0.3));\n",
              "      fill: #FFFFFF;\n",
              "    }\n",
              "  </style>\n",
              "\n",
              "    <script>\n",
              "      const buttonEl =\n",
              "        document.querySelector('#df-25884255-ed82-4f89-b3bb-5fc8bfeadba9 button.colab-df-convert');\n",
              "      buttonEl.style.display =\n",
              "        google.colab.kernel.accessAllowed ? 'block' : 'none';\n",
              "\n",
              "      async function convertToInteractive(key) {\n",
              "        const element = document.querySelector('#df-25884255-ed82-4f89-b3bb-5fc8bfeadba9');\n",
              "        const dataTable =\n",
              "          await google.colab.kernel.invokeFunction('convertToInteractive',\n",
              "                                                    [key], {});\n",
              "        if (!dataTable) return;\n",
              "\n",
              "        const docLinkHtml = 'Like what you see? Visit the ' +\n",
              "          '<a target=\"_blank\" href=https://colab.research.google.com/notebooks/data_table.ipynb>data table notebook</a>'\n",
              "          + ' to learn more about interactive tables.';\n",
              "        element.innerHTML = '';\n",
              "        dataTable['output_type'] = 'display_data';\n",
              "        await google.colab.output.renderOutput(dataTable, element);\n",
              "        const docLink = document.createElement('div');\n",
              "        docLink.innerHTML = docLinkHtml;\n",
              "        element.appendChild(docLink);\n",
              "      }\n",
              "    </script>\n",
              "  </div>\n",
              "\n",
              "\n",
              "<div id=\"df-9b326a1f-7a5a-46b2-8294-b79e866f340e\">\n",
              "  <button class=\"colab-df-quickchart\" onclick=\"quickchart('df-9b326a1f-7a5a-46b2-8294-b79e866f340e')\"\n",
              "            title=\"Suggest charts\"\n",
              "            style=\"display:none;\">\n",
              "\n",
              "<svg xmlns=\"http://www.w3.org/2000/svg\" height=\"24px\"viewBox=\"0 0 24 24\"\n",
              "     width=\"24px\">\n",
              "    <g>\n",
              "        <path d=\"M19 3H5c-1.1 0-2 .9-2 2v14c0 1.1.9 2 2 2h14c1.1 0 2-.9 2-2V5c0-1.1-.9-2-2-2zM9 17H7v-7h2v7zm4 0h-2V7h2v10zm4 0h-2v-4h2v4z\"/>\n",
              "    </g>\n",
              "</svg>\n",
              "  </button>\n",
              "\n",
              "<style>\n",
              "  .colab-df-quickchart {\n",
              "      --bg-color: #E8F0FE;\n",
              "      --fill-color: #1967D2;\n",
              "      --hover-bg-color: #E2EBFA;\n",
              "      --hover-fill-color: #174EA6;\n",
              "      --disabled-fill-color: #AAA;\n",
              "      --disabled-bg-color: #DDD;\n",
              "  }\n",
              "\n",
              "  [theme=dark] .colab-df-quickchart {\n",
              "      --bg-color: #3B4455;\n",
              "      --fill-color: #D2E3FC;\n",
              "      --hover-bg-color: #434B5C;\n",
              "      --hover-fill-color: #FFFFFF;\n",
              "      --disabled-bg-color: #3B4455;\n",
              "      --disabled-fill-color: #666;\n",
              "  }\n",
              "\n",
              "  .colab-df-quickchart {\n",
              "    background-color: var(--bg-color);\n",
              "    border: none;\n",
              "    border-radius: 50%;\n",
              "    cursor: pointer;\n",
              "    display: none;\n",
              "    fill: var(--fill-color);\n",
              "    height: 32px;\n",
              "    padding: 0;\n",
              "    width: 32px;\n",
              "  }\n",
              "\n",
              "  .colab-df-quickchart:hover {\n",
              "    background-color: var(--hover-bg-color);\n",
              "    box-shadow: 0 1px 2px rgba(60, 64, 67, 0.3), 0 1px 3px 1px rgba(60, 64, 67, 0.15);\n",
              "    fill: var(--button-hover-fill-color);\n",
              "  }\n",
              "\n",
              "  .colab-df-quickchart-complete:disabled,\n",
              "  .colab-df-quickchart-complete:disabled:hover {\n",
              "    background-color: var(--disabled-bg-color);\n",
              "    fill: var(--disabled-fill-color);\n",
              "    box-shadow: none;\n",
              "  }\n",
              "\n",
              "  .colab-df-spinner {\n",
              "    border: 2px solid var(--fill-color);\n",
              "    border-color: transparent;\n",
              "    border-bottom-color: var(--fill-color);\n",
              "    animation:\n",
              "      spin 1s steps(1) infinite;\n",
              "  }\n",
              "\n",
              "  @keyframes spin {\n",
              "    0% {\n",
              "      border-color: transparent;\n",
              "      border-bottom-color: var(--fill-color);\n",
              "      border-left-color: var(--fill-color);\n",
              "    }\n",
              "    20% {\n",
              "      border-color: transparent;\n",
              "      border-left-color: var(--fill-color);\n",
              "      border-top-color: var(--fill-color);\n",
              "    }\n",
              "    30% {\n",
              "      border-color: transparent;\n",
              "      border-left-color: var(--fill-color);\n",
              "      border-top-color: var(--fill-color);\n",
              "      border-right-color: var(--fill-color);\n",
              "    }\n",
              "    40% {\n",
              "      border-color: transparent;\n",
              "      border-right-color: var(--fill-color);\n",
              "      border-top-color: var(--fill-color);\n",
              "    }\n",
              "    60% {\n",
              "      border-color: transparent;\n",
              "      border-right-color: var(--fill-color);\n",
              "    }\n",
              "    80% {\n",
              "      border-color: transparent;\n",
              "      border-right-color: var(--fill-color);\n",
              "      border-bottom-color: var(--fill-color);\n",
              "    }\n",
              "    90% {\n",
              "      border-color: transparent;\n",
              "      border-bottom-color: var(--fill-color);\n",
              "    }\n",
              "  }\n",
              "</style>\n",
              "\n",
              "  <script>\n",
              "    async function quickchart(key) {\n",
              "      const quickchartButtonEl =\n",
              "        document.querySelector('#' + key + ' button');\n",
              "      quickchartButtonEl.disabled = true;  // To prevent multiple clicks.\n",
              "      quickchartButtonEl.classList.add('colab-df-spinner');\n",
              "      try {\n",
              "        const charts = await google.colab.kernel.invokeFunction(\n",
              "            'suggestCharts', [key], {});\n",
              "      } catch (error) {\n",
              "        console.error('Error during call to suggestCharts:', error);\n",
              "      }\n",
              "      quickchartButtonEl.classList.remove('colab-df-spinner');\n",
              "      quickchartButtonEl.classList.add('colab-df-quickchart-complete');\n",
              "    }\n",
              "    (() => {\n",
              "      let quickchartButtonEl =\n",
              "        document.querySelector('#df-9b326a1f-7a5a-46b2-8294-b79e866f340e button');\n",
              "      quickchartButtonEl.style.display =\n",
              "        google.colab.kernel.accessAllowed ? 'block' : 'none';\n",
              "    })();\n",
              "  </script>\n",
              "</div>\n",
              "\n",
              "  <div id=\"id_268cb355-535b-4912-990f-ef6bb3819f5b\">\n",
              "    <style>\n",
              "      .colab-df-generate {\n",
              "        background-color: #E8F0FE;\n",
              "        border: none;\n",
              "        border-radius: 50%;\n",
              "        cursor: pointer;\n",
              "        display: none;\n",
              "        fill: #1967D2;\n",
              "        height: 32px;\n",
              "        padding: 0 0 0 0;\n",
              "        width: 32px;\n",
              "      }\n",
              "\n",
              "      .colab-df-generate:hover {\n",
              "        background-color: #E2EBFA;\n",
              "        box-shadow: 0px 1px 2px rgba(60, 64, 67, 0.3), 0px 1px 3px 1px rgba(60, 64, 67, 0.15);\n",
              "        fill: #174EA6;\n",
              "      }\n",
              "\n",
              "      [theme=dark] .colab-df-generate {\n",
              "        background-color: #3B4455;\n",
              "        fill: #D2E3FC;\n",
              "      }\n",
              "\n",
              "      [theme=dark] .colab-df-generate:hover {\n",
              "        background-color: #434B5C;\n",
              "        box-shadow: 0px 1px 3px 1px rgba(0, 0, 0, 0.15);\n",
              "        filter: drop-shadow(0px 1px 2px rgba(0, 0, 0, 0.3));\n",
              "        fill: #FFFFFF;\n",
              "      }\n",
              "    </style>\n",
              "    <button class=\"colab-df-generate\" onclick=\"generateWithVariable('data1')\"\n",
              "            title=\"Generate code using this dataframe.\"\n",
              "            style=\"display:none;\">\n",
              "\n",
              "  <svg xmlns=\"http://www.w3.org/2000/svg\" height=\"24px\"viewBox=\"0 0 24 24\"\n",
              "       width=\"24px\">\n",
              "    <path d=\"M7,19H8.4L18.45,9,17,7.55,7,17.6ZM5,21V16.75L18.45,3.32a2,2,0,0,1,2.83,0l1.4,1.43a1.91,1.91,0,0,1,.58,1.4,1.91,1.91,0,0,1-.58,1.4L9.25,21ZM18.45,9,17,7.55Zm-12,3A5.31,5.31,0,0,0,4.9,8.1,5.31,5.31,0,0,0,1,6.5,5.31,5.31,0,0,0,4.9,4.9,5.31,5.31,0,0,0,6.5,1,5.31,5.31,0,0,0,8.1,4.9,5.31,5.31,0,0,0,12,6.5,5.46,5.46,0,0,0,6.5,12Z\"/>\n",
              "  </svg>\n",
              "    </button>\n",
              "    <script>\n",
              "      (() => {\n",
              "      const buttonEl =\n",
              "        document.querySelector('#id_268cb355-535b-4912-990f-ef6bb3819f5b button.colab-df-generate');\n",
              "      buttonEl.style.display =\n",
              "        google.colab.kernel.accessAllowed ? 'block' : 'none';\n",
              "\n",
              "      buttonEl.onclick = () => {\n",
              "        google.colab.notebook.generateWithVariable('data1');\n",
              "      }\n",
              "      })();\n",
              "    </script>\n",
              "  </div>\n",
              "\n",
              "    </div>\n",
              "  </div>\n"
            ],
            "application/vnd.google.colaboratory.intrinsic+json": {
              "type": "dataframe",
              "variable_name": "data1"
            }
          },
          "metadata": {},
          "execution_count": 37
        }
      ]
    },
    {
      "cell_type": "code",
      "source": [
        "le=LabelEncoder()"
      ],
      "metadata": {
        "id": "vU-hHQwnR1U9"
      },
      "execution_count": 38,
      "outputs": []
    },
    {
      "cell_type": "code",
      "source": [
        "data1['type']=le.fit_transform(data1['type'])"
      ],
      "metadata": {
        "id": "LmdXGX8hSCxI"
      },
      "execution_count": 39,
      "outputs": []
    },
    {
      "cell_type": "code",
      "source": [
        "data1"
      ],
      "metadata": {
        "colab": {
          "base_uri": "https://localhost:8080/",
          "height": 423
        },
        "id": "7c5RQBY6SMsD",
        "outputId": "b925eec6-a484-42d4-c765-097ad4665e4f"
      },
      "execution_count": 40,
      "outputs": [
        {
          "output_type": "execute_result",
          "data": {
            "text/plain": [
              "         type      amount  oldbalanceOrg  newbalanceOrig  oldbalanceDest  \\\n",
              "0           3     9839.64      170136.00       160296.36            0.00   \n",
              "1           3     1864.28       21249.00        19384.72            0.00   \n",
              "2           4      181.00         181.00            0.00            0.00   \n",
              "3           1      181.00         181.00            0.00        21182.00   \n",
              "4           3    11668.14       41554.00        29885.86            0.00   \n",
              "...       ...         ...            ...             ...             ...   \n",
              "6362615     1   339682.13      339682.13            0.00            0.00   \n",
              "6362616     4  6311409.28     6311409.28            0.00            0.00   \n",
              "6362617     1  6311409.28     6311409.28            0.00        68488.84   \n",
              "6362618     4   850002.52      850002.52            0.00            0.00   \n",
              "6362619     1   850002.52      850002.52            0.00      6510099.11   \n",
              "\n",
              "         newbalanceDest  isFraud  \n",
              "0                  0.00        0  \n",
              "1                  0.00        0  \n",
              "2                  0.00        1  \n",
              "3                  0.00        1  \n",
              "4                  0.00        0  \n",
              "...                 ...      ...  \n",
              "6362615       339682.13        1  \n",
              "6362616            0.00        1  \n",
              "6362617      6379898.11        1  \n",
              "6362618            0.00        1  \n",
              "6362619      7360101.63        1  \n",
              "\n",
              "[6362620 rows x 7 columns]"
            ],
            "text/html": [
              "\n",
              "  <div id=\"df-fca8e6f7-2d33-430a-ba78-6fcf540ca930\" class=\"colab-df-container\">\n",
              "    <div>\n",
              "<style scoped>\n",
              "    .dataframe tbody tr th:only-of-type {\n",
              "        vertical-align: middle;\n",
              "    }\n",
              "\n",
              "    .dataframe tbody tr th {\n",
              "        vertical-align: top;\n",
              "    }\n",
              "\n",
              "    .dataframe thead th {\n",
              "        text-align: right;\n",
              "    }\n",
              "</style>\n",
              "<table border=\"1\" class=\"dataframe\">\n",
              "  <thead>\n",
              "    <tr style=\"text-align: right;\">\n",
              "      <th></th>\n",
              "      <th>type</th>\n",
              "      <th>amount</th>\n",
              "      <th>oldbalanceOrg</th>\n",
              "      <th>newbalanceOrig</th>\n",
              "      <th>oldbalanceDest</th>\n",
              "      <th>newbalanceDest</th>\n",
              "      <th>isFraud</th>\n",
              "    </tr>\n",
              "  </thead>\n",
              "  <tbody>\n",
              "    <tr>\n",
              "      <th>0</th>\n",
              "      <td>3</td>\n",
              "      <td>9839.64</td>\n",
              "      <td>170136.00</td>\n",
              "      <td>160296.36</td>\n",
              "      <td>0.00</td>\n",
              "      <td>0.00</td>\n",
              "      <td>0</td>\n",
              "    </tr>\n",
              "    <tr>\n",
              "      <th>1</th>\n",
              "      <td>3</td>\n",
              "      <td>1864.28</td>\n",
              "      <td>21249.00</td>\n",
              "      <td>19384.72</td>\n",
              "      <td>0.00</td>\n",
              "      <td>0.00</td>\n",
              "      <td>0</td>\n",
              "    </tr>\n",
              "    <tr>\n",
              "      <th>2</th>\n",
              "      <td>4</td>\n",
              "      <td>181.00</td>\n",
              "      <td>181.00</td>\n",
              "      <td>0.00</td>\n",
              "      <td>0.00</td>\n",
              "      <td>0.00</td>\n",
              "      <td>1</td>\n",
              "    </tr>\n",
              "    <tr>\n",
              "      <th>3</th>\n",
              "      <td>1</td>\n",
              "      <td>181.00</td>\n",
              "      <td>181.00</td>\n",
              "      <td>0.00</td>\n",
              "      <td>21182.00</td>\n",
              "      <td>0.00</td>\n",
              "      <td>1</td>\n",
              "    </tr>\n",
              "    <tr>\n",
              "      <th>4</th>\n",
              "      <td>3</td>\n",
              "      <td>11668.14</td>\n",
              "      <td>41554.00</td>\n",
              "      <td>29885.86</td>\n",
              "      <td>0.00</td>\n",
              "      <td>0.00</td>\n",
              "      <td>0</td>\n",
              "    </tr>\n",
              "    <tr>\n",
              "      <th>...</th>\n",
              "      <td>...</td>\n",
              "      <td>...</td>\n",
              "      <td>...</td>\n",
              "      <td>...</td>\n",
              "      <td>...</td>\n",
              "      <td>...</td>\n",
              "      <td>...</td>\n",
              "    </tr>\n",
              "    <tr>\n",
              "      <th>6362615</th>\n",
              "      <td>1</td>\n",
              "      <td>339682.13</td>\n",
              "      <td>339682.13</td>\n",
              "      <td>0.00</td>\n",
              "      <td>0.00</td>\n",
              "      <td>339682.13</td>\n",
              "      <td>1</td>\n",
              "    </tr>\n",
              "    <tr>\n",
              "      <th>6362616</th>\n",
              "      <td>4</td>\n",
              "      <td>6311409.28</td>\n",
              "      <td>6311409.28</td>\n",
              "      <td>0.00</td>\n",
              "      <td>0.00</td>\n",
              "      <td>0.00</td>\n",
              "      <td>1</td>\n",
              "    </tr>\n",
              "    <tr>\n",
              "      <th>6362617</th>\n",
              "      <td>1</td>\n",
              "      <td>6311409.28</td>\n",
              "      <td>6311409.28</td>\n",
              "      <td>0.00</td>\n",
              "      <td>68488.84</td>\n",
              "      <td>6379898.11</td>\n",
              "      <td>1</td>\n",
              "    </tr>\n",
              "    <tr>\n",
              "      <th>6362618</th>\n",
              "      <td>4</td>\n",
              "      <td>850002.52</td>\n",
              "      <td>850002.52</td>\n",
              "      <td>0.00</td>\n",
              "      <td>0.00</td>\n",
              "      <td>0.00</td>\n",
              "      <td>1</td>\n",
              "    </tr>\n",
              "    <tr>\n",
              "      <th>6362619</th>\n",
              "      <td>1</td>\n",
              "      <td>850002.52</td>\n",
              "      <td>850002.52</td>\n",
              "      <td>0.00</td>\n",
              "      <td>6510099.11</td>\n",
              "      <td>7360101.63</td>\n",
              "      <td>1</td>\n",
              "    </tr>\n",
              "  </tbody>\n",
              "</table>\n",
              "<p>6362620 rows × 7 columns</p>\n",
              "</div>\n",
              "    <div class=\"colab-df-buttons\">\n",
              "\n",
              "  <div class=\"colab-df-container\">\n",
              "    <button class=\"colab-df-convert\" onclick=\"convertToInteractive('df-fca8e6f7-2d33-430a-ba78-6fcf540ca930')\"\n",
              "            title=\"Convert this dataframe to an interactive table.\"\n",
              "            style=\"display:none;\">\n",
              "\n",
              "  <svg xmlns=\"http://www.w3.org/2000/svg\" height=\"24px\" viewBox=\"0 -960 960 960\">\n",
              "    <path d=\"M120-120v-720h720v720H120Zm60-500h600v-160H180v160Zm220 220h160v-160H400v160Zm0 220h160v-160H400v160ZM180-400h160v-160H180v160Zm440 0h160v-160H620v160ZM180-180h160v-160H180v160Zm440 0h160v-160H620v160Z\"/>\n",
              "  </svg>\n",
              "    </button>\n",
              "\n",
              "  <style>\n",
              "    .colab-df-container {\n",
              "      display:flex;\n",
              "      gap: 12px;\n",
              "    }\n",
              "\n",
              "    .colab-df-convert {\n",
              "      background-color: #E8F0FE;\n",
              "      border: none;\n",
              "      border-radius: 50%;\n",
              "      cursor: pointer;\n",
              "      display: none;\n",
              "      fill: #1967D2;\n",
              "      height: 32px;\n",
              "      padding: 0 0 0 0;\n",
              "      width: 32px;\n",
              "    }\n",
              "\n",
              "    .colab-df-convert:hover {\n",
              "      background-color: #E2EBFA;\n",
              "      box-shadow: 0px 1px 2px rgba(60, 64, 67, 0.3), 0px 1px 3px 1px rgba(60, 64, 67, 0.15);\n",
              "      fill: #174EA6;\n",
              "    }\n",
              "\n",
              "    .colab-df-buttons div {\n",
              "      margin-bottom: 4px;\n",
              "    }\n",
              "\n",
              "    [theme=dark] .colab-df-convert {\n",
              "      background-color: #3B4455;\n",
              "      fill: #D2E3FC;\n",
              "    }\n",
              "\n",
              "    [theme=dark] .colab-df-convert:hover {\n",
              "      background-color: #434B5C;\n",
              "      box-shadow: 0px 1px 3px 1px rgba(0, 0, 0, 0.15);\n",
              "      filter: drop-shadow(0px 1px 2px rgba(0, 0, 0, 0.3));\n",
              "      fill: #FFFFFF;\n",
              "    }\n",
              "  </style>\n",
              "\n",
              "    <script>\n",
              "      const buttonEl =\n",
              "        document.querySelector('#df-fca8e6f7-2d33-430a-ba78-6fcf540ca930 button.colab-df-convert');\n",
              "      buttonEl.style.display =\n",
              "        google.colab.kernel.accessAllowed ? 'block' : 'none';\n",
              "\n",
              "      async function convertToInteractive(key) {\n",
              "        const element = document.querySelector('#df-fca8e6f7-2d33-430a-ba78-6fcf540ca930');\n",
              "        const dataTable =\n",
              "          await google.colab.kernel.invokeFunction('convertToInteractive',\n",
              "                                                    [key], {});\n",
              "        if (!dataTable) return;\n",
              "\n",
              "        const docLinkHtml = 'Like what you see? Visit the ' +\n",
              "          '<a target=\"_blank\" href=https://colab.research.google.com/notebooks/data_table.ipynb>data table notebook</a>'\n",
              "          + ' to learn more about interactive tables.';\n",
              "        element.innerHTML = '';\n",
              "        dataTable['output_type'] = 'display_data';\n",
              "        await google.colab.output.renderOutput(dataTable, element);\n",
              "        const docLink = document.createElement('div');\n",
              "        docLink.innerHTML = docLinkHtml;\n",
              "        element.appendChild(docLink);\n",
              "      }\n",
              "    </script>\n",
              "  </div>\n",
              "\n",
              "\n",
              "<div id=\"df-44a7be58-8add-4461-965a-c3da725f3270\">\n",
              "  <button class=\"colab-df-quickchart\" onclick=\"quickchart('df-44a7be58-8add-4461-965a-c3da725f3270')\"\n",
              "            title=\"Suggest charts\"\n",
              "            style=\"display:none;\">\n",
              "\n",
              "<svg xmlns=\"http://www.w3.org/2000/svg\" height=\"24px\"viewBox=\"0 0 24 24\"\n",
              "     width=\"24px\">\n",
              "    <g>\n",
              "        <path d=\"M19 3H5c-1.1 0-2 .9-2 2v14c0 1.1.9 2 2 2h14c1.1 0 2-.9 2-2V5c0-1.1-.9-2-2-2zM9 17H7v-7h2v7zm4 0h-2V7h2v10zm4 0h-2v-4h2v4z\"/>\n",
              "    </g>\n",
              "</svg>\n",
              "  </button>\n",
              "\n",
              "<style>\n",
              "  .colab-df-quickchart {\n",
              "      --bg-color: #E8F0FE;\n",
              "      --fill-color: #1967D2;\n",
              "      --hover-bg-color: #E2EBFA;\n",
              "      --hover-fill-color: #174EA6;\n",
              "      --disabled-fill-color: #AAA;\n",
              "      --disabled-bg-color: #DDD;\n",
              "  }\n",
              "\n",
              "  [theme=dark] .colab-df-quickchart {\n",
              "      --bg-color: #3B4455;\n",
              "      --fill-color: #D2E3FC;\n",
              "      --hover-bg-color: #434B5C;\n",
              "      --hover-fill-color: #FFFFFF;\n",
              "      --disabled-bg-color: #3B4455;\n",
              "      --disabled-fill-color: #666;\n",
              "  }\n",
              "\n",
              "  .colab-df-quickchart {\n",
              "    background-color: var(--bg-color);\n",
              "    border: none;\n",
              "    border-radius: 50%;\n",
              "    cursor: pointer;\n",
              "    display: none;\n",
              "    fill: var(--fill-color);\n",
              "    height: 32px;\n",
              "    padding: 0;\n",
              "    width: 32px;\n",
              "  }\n",
              "\n",
              "  .colab-df-quickchart:hover {\n",
              "    background-color: var(--hover-bg-color);\n",
              "    box-shadow: 0 1px 2px rgba(60, 64, 67, 0.3), 0 1px 3px 1px rgba(60, 64, 67, 0.15);\n",
              "    fill: var(--button-hover-fill-color);\n",
              "  }\n",
              "\n",
              "  .colab-df-quickchart-complete:disabled,\n",
              "  .colab-df-quickchart-complete:disabled:hover {\n",
              "    background-color: var(--disabled-bg-color);\n",
              "    fill: var(--disabled-fill-color);\n",
              "    box-shadow: none;\n",
              "  }\n",
              "\n",
              "  .colab-df-spinner {\n",
              "    border: 2px solid var(--fill-color);\n",
              "    border-color: transparent;\n",
              "    border-bottom-color: var(--fill-color);\n",
              "    animation:\n",
              "      spin 1s steps(1) infinite;\n",
              "  }\n",
              "\n",
              "  @keyframes spin {\n",
              "    0% {\n",
              "      border-color: transparent;\n",
              "      border-bottom-color: var(--fill-color);\n",
              "      border-left-color: var(--fill-color);\n",
              "    }\n",
              "    20% {\n",
              "      border-color: transparent;\n",
              "      border-left-color: var(--fill-color);\n",
              "      border-top-color: var(--fill-color);\n",
              "    }\n",
              "    30% {\n",
              "      border-color: transparent;\n",
              "      border-left-color: var(--fill-color);\n",
              "      border-top-color: var(--fill-color);\n",
              "      border-right-color: var(--fill-color);\n",
              "    }\n",
              "    40% {\n",
              "      border-color: transparent;\n",
              "      border-right-color: var(--fill-color);\n",
              "      border-top-color: var(--fill-color);\n",
              "    }\n",
              "    60% {\n",
              "      border-color: transparent;\n",
              "      border-right-color: var(--fill-color);\n",
              "    }\n",
              "    80% {\n",
              "      border-color: transparent;\n",
              "      border-right-color: var(--fill-color);\n",
              "      border-bottom-color: var(--fill-color);\n",
              "    }\n",
              "    90% {\n",
              "      border-color: transparent;\n",
              "      border-bottom-color: var(--fill-color);\n",
              "    }\n",
              "  }\n",
              "</style>\n",
              "\n",
              "  <script>\n",
              "    async function quickchart(key) {\n",
              "      const quickchartButtonEl =\n",
              "        document.querySelector('#' + key + ' button');\n",
              "      quickchartButtonEl.disabled = true;  // To prevent multiple clicks.\n",
              "      quickchartButtonEl.classList.add('colab-df-spinner');\n",
              "      try {\n",
              "        const charts = await google.colab.kernel.invokeFunction(\n",
              "            'suggestCharts', [key], {});\n",
              "      } catch (error) {\n",
              "        console.error('Error during call to suggestCharts:', error);\n",
              "      }\n",
              "      quickchartButtonEl.classList.remove('colab-df-spinner');\n",
              "      quickchartButtonEl.classList.add('colab-df-quickchart-complete');\n",
              "    }\n",
              "    (() => {\n",
              "      let quickchartButtonEl =\n",
              "        document.querySelector('#df-44a7be58-8add-4461-965a-c3da725f3270 button');\n",
              "      quickchartButtonEl.style.display =\n",
              "        google.colab.kernel.accessAllowed ? 'block' : 'none';\n",
              "    })();\n",
              "  </script>\n",
              "</div>\n",
              "\n",
              "  <div id=\"id_797b0bd6-1a39-4b11-ad7e-f93c2d733e3e\">\n",
              "    <style>\n",
              "      .colab-df-generate {\n",
              "        background-color: #E8F0FE;\n",
              "        border: none;\n",
              "        border-radius: 50%;\n",
              "        cursor: pointer;\n",
              "        display: none;\n",
              "        fill: #1967D2;\n",
              "        height: 32px;\n",
              "        padding: 0 0 0 0;\n",
              "        width: 32px;\n",
              "      }\n",
              "\n",
              "      .colab-df-generate:hover {\n",
              "        background-color: #E2EBFA;\n",
              "        box-shadow: 0px 1px 2px rgba(60, 64, 67, 0.3), 0px 1px 3px 1px rgba(60, 64, 67, 0.15);\n",
              "        fill: #174EA6;\n",
              "      }\n",
              "\n",
              "      [theme=dark] .colab-df-generate {\n",
              "        background-color: #3B4455;\n",
              "        fill: #D2E3FC;\n",
              "      }\n",
              "\n",
              "      [theme=dark] .colab-df-generate:hover {\n",
              "        background-color: #434B5C;\n",
              "        box-shadow: 0px 1px 3px 1px rgba(0, 0, 0, 0.15);\n",
              "        filter: drop-shadow(0px 1px 2px rgba(0, 0, 0, 0.3));\n",
              "        fill: #FFFFFF;\n",
              "      }\n",
              "    </style>\n",
              "    <button class=\"colab-df-generate\" onclick=\"generateWithVariable('data1')\"\n",
              "            title=\"Generate code using this dataframe.\"\n",
              "            style=\"display:none;\">\n",
              "\n",
              "  <svg xmlns=\"http://www.w3.org/2000/svg\" height=\"24px\"viewBox=\"0 0 24 24\"\n",
              "       width=\"24px\">\n",
              "    <path d=\"M7,19H8.4L18.45,9,17,7.55,7,17.6ZM5,21V16.75L18.45,3.32a2,2,0,0,1,2.83,0l1.4,1.43a1.91,1.91,0,0,1,.58,1.4,1.91,1.91,0,0,1-.58,1.4L9.25,21ZM18.45,9,17,7.55Zm-12,3A5.31,5.31,0,0,0,4.9,8.1,5.31,5.31,0,0,0,1,6.5,5.31,5.31,0,0,0,4.9,4.9,5.31,5.31,0,0,0,6.5,1,5.31,5.31,0,0,0,8.1,4.9,5.31,5.31,0,0,0,12,6.5,5.46,5.46,0,0,0,6.5,12Z\"/>\n",
              "  </svg>\n",
              "    </button>\n",
              "    <script>\n",
              "      (() => {\n",
              "      const buttonEl =\n",
              "        document.querySelector('#id_797b0bd6-1a39-4b11-ad7e-f93c2d733e3e button.colab-df-generate');\n",
              "      buttonEl.style.display =\n",
              "        google.colab.kernel.accessAllowed ? 'block' : 'none';\n",
              "\n",
              "      buttonEl.onclick = () => {\n",
              "        google.colab.notebook.generateWithVariable('data1');\n",
              "      }\n",
              "      })();\n",
              "    </script>\n",
              "  </div>\n",
              "\n",
              "    </div>\n",
              "  </div>\n"
            ],
            "application/vnd.google.colaboratory.intrinsic+json": {
              "type": "dataframe",
              "variable_name": "data1"
            }
          },
          "metadata": {},
          "execution_count": 40
        }
      ]
    },
    {
      "cell_type": "code",
      "source": [
        "x=data1.drop('isFraud' , axis=1)"
      ],
      "metadata": {
        "id": "hzRm11e-Pw5d"
      },
      "execution_count": 41,
      "outputs": []
    },
    {
      "cell_type": "code",
      "source": [
        "y=data1['isFraud']"
      ],
      "metadata": {
        "id": "TofYKUbgQSY1"
      },
      "execution_count": 42,
      "outputs": []
    },
    {
      "cell_type": "code",
      "source": [
        "scalar = StandardScaler()\n",
        "x_scaled = scalar.fit_transform(x)"
      ],
      "metadata": {
        "id": "DdbpI_-4RGrz"
      },
      "execution_count": 43,
      "outputs": []
    },
    {
      "cell_type": "code",
      "source": [
        "x_train , x_test , y_train , y_test = train_test_split( x_scaled , y , test_size=0.2 , random_state=42)"
      ],
      "metadata": {
        "id": "zZMt5Ja1QVxc"
      },
      "execution_count": 44,
      "outputs": []
    },
    {
      "cell_type": "code",
      "source": [
        "x_train.shape"
      ],
      "metadata": {
        "colab": {
          "base_uri": "https://localhost:8080/"
        },
        "id": "wO3kP9vCQhF-",
        "outputId": "68a12338-4ad8-4090-9ec3-c83d50d57214"
      },
      "execution_count": 45,
      "outputs": [
        {
          "output_type": "execute_result",
          "data": {
            "text/plain": [
              "(5090096, 6)"
            ]
          },
          "metadata": {},
          "execution_count": 45
        }
      ]
    },
    {
      "cell_type": "code",
      "source": [
        "y_train.shape"
      ],
      "metadata": {
        "colab": {
          "base_uri": "https://localhost:8080/"
        },
        "id": "d9sBvIgwQlUk",
        "outputId": "36750a78-baeb-4924-803f-768ecea86828"
      },
      "execution_count": 46,
      "outputs": [
        {
          "output_type": "execute_result",
          "data": {
            "text/plain": [
              "(5090096,)"
            ]
          },
          "metadata": {},
          "execution_count": 46
        }
      ]
    },
    {
      "cell_type": "markdown",
      "source": [
        "# 6. Creating Model"
      ],
      "metadata": {
        "id": "F-54IvkIbVLE"
      }
    },
    {
      "cell_type": "code",
      "source": [
        "from sklearn.metrics import accuracy_score\n",
        "from sklearn.linear_model import LogisticRegression\n",
        "from sklearn.tree import DecisionTreeClassifier\n",
        "\n",
        "# Assume X_train, X_test, y_train, y_test are your training and testing data\n",
        "\n",
        "# Define a list of models\n",
        "models = {\n",
        "    \"Logistic Regression\": LogisticRegression(),\n",
        "    \"Decision Tree\": DecisionTreeClassifier(),\n",
        "\n",
        "}\n",
        "\n",
        "# Train each model and calculate accuracy\n",
        "accuracies = {}\n",
        "for name, model in models.items():\n",
        "    # Fit the model\n",
        "    model.fit(x_train, y_train)\n",
        "\n",
        "    # Predict on the test set\n",
        "    y_pred = model.predict(x_test)\n",
        "\n",
        "    # Calculate accuracy\n",
        "    accuracy = accuracy_score(y_test, y_pred)\n",
        "\n",
        "    # Store accuracy in dictionary\n",
        "    accuracies[name] = accuracy\n",
        "\n",
        "# Find the model with highest accuracy\n",
        "best_model = max(accuracies, key=accuracies.get)\n",
        "best_accuracy = accuracies[best_model]\n",
        "\n",
        "print(\"Model accuracies:\")\n",
        "for name, accuracy in accuracies.items():\n",
        "    print(f\"{name}: {accuracy}\")\n",
        "\n",
        "print(f\"\\nBest model: {best_model} with accuracy: {best_accuracy}\")\n",
        "\n"
      ],
      "metadata": {
        "colab": {
          "base_uri": "https://localhost:8080/"
        },
        "id": "B6ZOr19GSmXs",
        "outputId": "26cd6094-65c2-421e-945b-94462bb1f808"
      },
      "execution_count": 47,
      "outputs": [
        {
          "output_type": "stream",
          "name": "stdout",
          "text": [
            "Model accuracies:\n",
            "Logistic Regression: 0.9991685814963018\n",
            "Decision Tree: 0.999746959585831\n",
            "\n",
            "Best model: Decision Tree with accuracy: 0.999746959585831\n"
          ]
        }
      ]
    },
    {
      "cell_type": "code",
      "source": [],
      "metadata": {
        "id": "-PKebRlLkYdZ"
      },
      "execution_count": 47,
      "outputs": []
    },
    {
      "cell_type": "markdown",
      "source": [
        "# 7. Evaluation"
      ],
      "metadata": {
        "id": "HGhMc5o-bmWM"
      }
    },
    {
      "cell_type": "code",
      "source": [
        "y_pred = model.predict(x_test)"
      ],
      "metadata": {
        "id": "GUdMTAh4Vie7"
      },
      "execution_count": 71,
      "outputs": []
    },
    {
      "cell_type": "code",
      "source": [
        "from sklearn.metrics import classification_report, confusion_matrix, ConfusionMatrixDisplay\n",
        "conf_mat = confusion_matrix(y_test,y_pred)\n",
        "conf_mat"
      ],
      "metadata": {
        "colab": {
          "base_uri": "https://localhost:8080/"
        },
        "id": "kstdnRcnYFs0",
        "outputId": "d3b6cca8-8679-4ea8-b241-3e6756182754"
      },
      "execution_count": 50,
      "outputs": [
        {
          "output_type": "execute_result",
          "data": {
            "text/plain": [
              "array([[1270747,     157],\n",
              "       [    165,    1455]])"
            ]
          },
          "metadata": {},
          "execution_count": 50
        }
      ]
    },
    {
      "cell_type": "code",
      "source": [
        "from sklearn.metrics import classification_report, confusion_matrix, ConfusionMatrixDisplay\n",
        "disp = ConfusionMatrixDisplay(confusion_matrix=conf_mat)\n",
        "disp.plot()\n",
        "plt.title('Confusion Matrix')\n",
        "plt.show()"
      ],
      "metadata": {
        "colab": {
          "base_uri": "https://localhost:8080/",
          "height": 472
        },
        "id": "qs5aF0KLYKz_",
        "outputId": "f43e8ad5-1588-47bb-e120-3c0811babc20"
      },
      "execution_count": 52,
      "outputs": [
        {
          "output_type": "display_data",
          "data": {
            "text/plain": [
              "<Figure size 640x480 with 2 Axes>"
            ],
            "image/png": "[encoded data removed]"
          },
          "metadata": {}
        }
      ]
    },
    {
      "cell_type": "code",
      "source": [
        "true_positive = conf_mat[0][0]\n",
        "false_positive = conf_mat[0][1]\n",
        "false_negative = conf_mat[1][0]\n",
        "true_negative = conf_mat[1][1]"
      ],
      "metadata": {
        "id": "tTkzsWivZrLl"
      },
      "execution_count": 53,
      "outputs": []
    },
    {
      "cell_type": "markdown",
      "source": [
        "##### Accuracy"
      ],
      "metadata": {
        "id": "UdkGHJfraJu3"
      }
    },
    {
      "cell_type": "code",
      "source": [
        "Accuracy = (true_positive + true_negative) / (true_positive +false_positive + false_negative + true_negative)\n",
        "Accuracy"
      ],
      "metadata": {
        "colab": {
          "base_uri": "https://localhost:8080/"
        },
        "id": "vb4dKkyiaHPk",
        "outputId": "9c4a88dc-14dc-46a2-e4c7-9367671b676e"
      },
      "execution_count": 54,
      "outputs": [
        {
          "output_type": "execute_result",
          "data": {
            "text/plain": [
              "0.999746959585831"
            ]
          },
          "metadata": {},
          "execution_count": 54
        }
      ]
    },
    {
      "cell_type": "markdown",
      "source": [
        "##### Precision"
      ],
      "metadata": {
        "id": "Ge8hEohgaPur"
      }
    },
    {
      "cell_type": "code",
      "source": [
        "Precision = true_positive/(true_positive+false_positive)\n",
        "Precision"
      ],
      "metadata": {
        "colab": {
          "base_uri": "https://localhost:8080/"
        },
        "id": "ffF-NYuWaL2L",
        "outputId": "20d4ac35-8cfb-4148-ae11-e556e6cc30e1"
      },
      "execution_count": 55,
      "outputs": [
        {
          "output_type": "execute_result",
          "data": {
            "text/plain": [
              "0.9998764658857002"
            ]
          },
          "metadata": {},
          "execution_count": 55
        }
      ]
    },
    {
      "cell_type": "markdown",
      "source": [
        "##### Recall"
      ],
      "metadata": {
        "id": "0piqTG1VaUWe"
      }
    },
    {
      "cell_type": "code",
      "source": [
        "Recall = true_positive/(true_positive+false_negative)\n",
        "Recall"
      ],
      "metadata": {
        "colab": {
          "base_uri": "https://localhost:8080/"
        },
        "id": "csL2r2iXaRzB",
        "outputId": "e7de8355-ee58-4b87-d56d-7f80c1040ade"
      },
      "execution_count": 57,
      "outputs": [
        {
          "output_type": "execute_result",
          "data": {
            "text/plain": [
              "0.999870171970994"
            ]
          },
          "metadata": {},
          "execution_count": 57
        }
      ]
    },
    {
      "cell_type": "markdown",
      "source": [
        "##### F-Beta score"
      ],
      "metadata": {
        "id": "NhRPOoNOaY1U"
      }
    },
    {
      "cell_type": "code",
      "source": [
        "F1_Score = 2*(Recall * Precision) / (Recall + Precision)\n",
        "F1_Score"
      ],
      "metadata": {
        "colab": {
          "base_uri": "https://localhost:8080/"
        },
        "id": "KnqFeciMaWGB",
        "outputId": "bf572bdc-5b58-470c-8959-395f6d08f52f"
      },
      "execution_count": 58,
      "outputs": [
        {
          "output_type": "execute_result",
          "data": {
            "text/plain": [
              "0.9998733189184426"
            ]
          },
          "metadata": {},
          "execution_count": 58
        }
      ]
    },
    {
      "cell_type": "markdown",
      "source": [
        "##### ROC-AUC Curve"
      ],
      "metadata": {
        "id": "HyFh8QGk1d4L"
      }
    },
    {
      "cell_type": "code",
      "source": [
        "from sklearn.metrics import  roc_curve, roc_auc_score\n",
        "auc = roc_auc_score(y_test, y_pred)\n",
        "auc"
      ],
      "metadata": {
        "colab": {
          "base_uri": "https://localhost:8080/"
        },
        "id": "Hm9N3w5VaaN5",
        "outputId": "510a5f01-fe6a-40bd-baad-3e55c3b28b7f"
      },
      "execution_count": 62,
      "outputs": [
        {
          "output_type": "execute_result",
          "data": {
            "text/plain": [
              "0.9490123070169242"
            ]
          },
          "metadata": {},
          "execution_count": 62
        }
      ]
    },
    {
      "cell_type": "code",
      "source": [
        "fpr, tpr, thresholds = roc_curve(y_test, y_pred)"
      ],
      "metadata": {
        "id": "mFJRIY_talAd"
      },
      "execution_count": 64,
      "outputs": []
    },
    {
      "cell_type": "code",
      "source": [
        "plt.plot(fpr, tpr, color='orange', label='ROC')\n",
        "plt.plot([0, 1], [0, 1], color='darkblue', linestyle='--',label='ROC curve (area = %0.2f)' % auc)\n",
        "plt.xlabel('False Positive Rate')\n",
        "plt.ylabel('True Positive Rate')\n",
        "plt.title('Receiver Operating Characteristic (ROC) Curve')\n",
        "plt.legend()\n",
        "plt.show()"
      ],
      "metadata": {
        "colab": {
          "base_uri": "https://localhost:8080/",
          "height": 472
        },
        "id": "Hriht01Zam_m",
        "outputId": "fd02d4c6-7a3e-4080-a2ef-d073c67ac63e"
      },
      "execution_count": 65,
      "outputs": [
        {
          "output_type": "display_data",
          "data": {
            "text/plain": [
              "<Figure size 640x480 with 1 Axes>"
            ],
            "image/png": "[encoded data removed]"
          },
          "metadata": {}
        }
      ]
    },
    {
      "cell_type": "markdown",
      "source": [
        "Ideal ROC-Curve condition:\n",
        "In general, an AUC of 0.5 suggests no discrimination , 0.7 to 0.8 is considered acceptable, 0.8 to 0.9 is considered excellent, and more than 0.9 is considered outstanding."
      ],
      "metadata": {
        "id": "FaYrSILk37UE"
      }
    },
    {
      "cell_type": "markdown",
      "source": [
        "##### Precision-Recall Curve"
      ],
      "metadata": {
        "id": "0gszfCZM1iYy"
      }
    },
    {
      "cell_type": "code",
      "source": [
        "from sklearn.metrics import precision_recall_curve\n",
        "\n",
        "# Assume y_true and y_scores are your true labels and predicted probabilities, respectively\n",
        "\n",
        "# Calculate precision and recall\n",
        "precision, recall, thresholds = precision_recall_curve(y_test, y_pred)\n",
        "\n",
        "# Plot precision-recall curve\n",
        "plt.figure(figsize=(8, 6))\n",
        "plt.plot(recall, precision, marker='.')\n",
        "plt.xlabel('Recall')\n",
        "plt.ylabel('Precision')\n",
        "plt.title('Precision-Recall Curve')\n",
        "plt.grid(True)\n",
        "plt.show()\n"
      ],
      "metadata": {
        "colab": {
          "base_uri": "https://localhost:8080/",
          "height": 564
        },
        "id": "Z-YSv0iuuQ9m",
        "outputId": "47f9e07f-b3df-4005-c74d-15d3dc321e74"
      },
      "execution_count": 67,
      "outputs": [
        {
          "output_type": "display_data",
          "data": {
            "text/plain": [
              "<Figure size 800x600 with 1 Axes>"
            ],
            "image/png": "[encoded data removed]"
          },
          "metadata": {}
        }
      ]
    },
    {
      "cell_type": "markdown",
      "source": [
        "Ideal PR-Curve condition:An ideal PR-curve goes from the topleft corner horizontically to the topright corner and straight down to the bottomright corner,"
      ],
      "metadata": {
        "id": "tzJRQcD13KeW"
      }
    },
    {
      "cell_type": "code",
      "source": [],
      "metadata": {
        "id": "WWgSvb2p3Jfz"
      },
      "execution_count": null,
      "outputs": []
    },
    {
      "cell_type": "markdown",
      "source": [
        "##### Calibration Curve"
      ],
      "metadata": {
        "id": "L2rMDbP91nlI"
      }
    },
    {
      "cell_type": "code",
      "source": [
        "from sklearn.calibration import calibration_curve\n",
        "\n",
        "\n",
        "# Assume y_true and y_probs are your true labels and predicted probabilities, respectively\n",
        "\n",
        "# Calculate calibration curve\n",
        "prob_true, prob_pred = calibration_curve(y_test, y_pred, n_bins=10, strategy='uniform')\n",
        "\n",
        "# Plot calibration curve\n",
        "plt.figure(figsize=(8, 6))\n",
        "plt.plot(prob_pred, prob_true, marker='o', linestyle='-', color='blue', label='Calibration Curve')\n",
        "plt.plot([0, 1], [0, 1], linestyle='--', color='gray', label='Perfectly Calibrated')\n",
        "plt.xlabel('Mean Predicted Probability')\n",
        "plt.ylabel('Fraction of Positives')\n",
        "plt.title('Calibration Curve')\n",
        "plt.legend()\n",
        "plt.grid(True)\n",
        "plt.show()\n"
      ],
      "metadata": {
        "colab": {
          "base_uri": "https://localhost:8080/",
          "height": 564
        },
        "id": "eG0396ZzvC-J",
        "outputId": "117fbb44-6ee0-4c0a-fc6b-ebf3058064f3"
      },
      "execution_count": 68,
      "outputs": [
        {
          "output_type": "display_data",
          "data": {
            "text/plain": [
              "<Figure size 800x600 with 1 Axes>"
            ],
            "image/png": "[encoded data removed]"
          },
          "metadata": {}
        }
      ]
    },
    {
      "cell_type": "markdown",
      "source": [
        "Ideal Calibration-Curve condition: The r or r2 values that accompany our calibration curve are measurements of how closely our curve matches the data we have generated."
      ],
      "metadata": {
        "id": "36x_UN-L2cO3"
      }
    },
    {
      "cell_type": "markdown",
      "source": [
        "# 8. Conclusion"
      ],
      "metadata": {
        "id": "oYeIFwIggYB4"
      }
    },
    {
      "cell_type": "markdown",
      "source": [
        "### 1. Describe your fraud detection model in elaboration ?"
      ],
      "metadata": {
        "id": "I6AEXM3pmP4D"
      }
    },
    {
      "cell_type": "markdown",
      "source": [
        "1.**Data Collection:** The first step in building a fraud detection model is to gather relevant data. Here we are taking a data from kaggle website where the format of the data is csv.\n",
        "\n",
        "\n",
        "---\n",
        "\n",
        "\n",
        "\n",
        "2 **Data cleaning:** Once the data is collected, it needs to be preprocessed to prepare it for modeling. This involves tasks such as cleaning the data to handle missing values, outliers, and inconsistencies.\n",
        "\n",
        "\n",
        "---\n",
        "\n",
        "\n",
        "\n",
        "3.**Data Analysis & Visualization :**Finding the insights from the data , what data is actually telling us . Here we find 5 observations from the data.\n",
        "\n",
        "\n",
        "---\n",
        "\n",
        "\n",
        "\n",
        "4.**Data pre-processing :**This includes spliting the data, encoding categorical variables, scaling numerical features, and possibly feature engineering to create new informative features.\n",
        "\n",
        "\n",
        "\n",
        "---\n",
        "\n",
        "\n",
        "5.**Model Selection:** A variety of machine learning algorithms can be used for fraud detection, including but not limited to:\n",
        "Logistic Regression,\n",
        "Decision Trees,\n",
        "Support Vectors Machines,\n",
        "Gradient Boosting Machines,\n",
        "The choice of algorithm depends on factors such as the nature of the data, the desired interpretability of the model, and the trade-off between accuracy and computational efficiency.\n",
        "\n",
        "\n",
        "---\n",
        "\n",
        "\n",
        "\n",
        "\n",
        "6.**Model Training:** The selected model is then trained on the preprocessed data. During training, the model learns patterns and relationships in the data that distinguish between legitimate and fraudulent transactions. This involves adjusting the model parameters to minimize a chosen loss function, typically using techniques like gradient descent or its variants.\n",
        "here we are getting a accuracy of 0.999746959585831 with Decision Tree\n",
        "\n",
        "\n",
        "\n",
        "---\n",
        "\n",
        "\n",
        "\n",
        "7.**Model Evaluation:** Once trained, the model is evaluated on a separate test dataset to assess its performance. Common evaluation metrics for fraud detection models include accuracy, precision, recall, F1-score, ROC-AUC, and confusion matrix analysis. The model's performance is compared against predefined thresholds or benchmarks to determine its effectiveness in detecting fraud.\n",
        "\n",
        "\n",
        "\n",
        "\n",
        "\n",
        "\n"
      ],
      "metadata": {
        "id": "bMB--Ma6mVgF"
      }
    },
    {
      "cell_type": "markdown",
      "source": [
        "###2.How did you select variables to be included in the model?  "
      ],
      "metadata": {
        "id": "rFmtRuR-pgwf"
      }
    },
    {
      "cell_type": "markdown",
      "source": [
        "There are 11 varriables in the dataset this includes step, type , amount ,\n",
        "nameOrig , oldbalanceOrg ,\n",
        "newbalanceOrig ,\n",
        "nameDest ,\n",
        "oldbalanceDest ,\n",
        "newbalanceDest , isFraud ,\n",
        "isFlaggedFraud.\n",
        "Some of the variables are not usefull to us while making a predictive model because this will not create a much impact on the accuracy.\n",
        "we can check impact of the variables with the help of heatmap and multicollinearity. Those variables which have very less impact we can drop this variables this are step , nameOrig , isFlaggedFraud , nameDest."
      ],
      "metadata": {
        "id": "o8f5aOBRpnrG"
      }
    },
    {
      "cell_type": "markdown",
      "source": [
        "### 3.Demonstrate the performance of the model by using best set of tools ?"
      ],
      "metadata": {
        "id": "n___PUyapnma"
      }
    },
    {
      "cell_type": "markdown",
      "source": [
        "1.**Model Training and Evaluation:**\n",
        "Split the dataset into training and testing sets using train_test_split from scikit-learn.\n",
        "Choose a suitable machine learning algorithm (e.g., logistic regression, decision tree, random forest, etc.).\n",
        "Train the model on the training set using the chosen algorithm.\n",
        "Evaluate the model's performance on the testing set using evaluation metrics such as accuracy, precision, recall, F1-score, and ROC-AUC.\n",
        "\n",
        "\n",
        "---\n",
        "\n",
        "\n",
        "2.**Data Visualization:**\n",
        "Use libraries like Matplotlib and Seaborn to create visualizations that illustrate the model's performance.\n",
        "Plot confusion matrices, ROC curves, precision-recall curves,calibration-curve and feature importances to provide insights into the model's behavior and predictive capabilities.\n",
        "Hyperparameter Tuning:\n",
        "\n",
        "Utilize tools like GridSearchCV or RandomizedSearchCV from scikit-learn to perform hyperparameter tuning and find the best combination of hyperparameters for the model.\n",
        "Cross-validate the model with different hyperparameter settings to ensure robustness and avoid overfitting."
      ],
      "metadata": {
        "id": "jX-sd0oppni8"
      }
    },
    {
      "cell_type": "markdown",
      "source": [],
      "metadata": {
        "id": "Y4AlAuWCzVJE"
      }
    },
    {
      "cell_type": "markdown",
      "source": [
        "### 4.What are the key factors that predict fraudulent customer?"
      ],
      "metadata": {
        "id": "YhACu4XQpnfb"
      }
    },
    {
      "cell_type": "markdown",
      "source": [
        "### 5.What kind of prevention should be adopted while company update its infrastructure?"
      ],
      "metadata": {
        "id": "SHaKKDIxpnVN"
      }
    },
    {
      "cell_type": "markdown",
      "source": [
        "1.Utilize certified and reputable applications for system updates.\n",
        "\n",
        "2.Ensure browsing exclusively on secure websites with HTTPS protocols.\n",
        "\n",
        "3.Employ secure internet connections, such as VPNs, to safeguard data transmission.\n",
        "\n",
        "4.Regularly update mobile and laptop security software to address emerging threats.\n",
        "\n",
        "5.Exercise caution and refrain from responding to unsolicited communications via calls, SMS, or emails.\n",
        "\n",
        "6.In the event of suspicion or security breaches, promptly contact financial institutions for immediate assistance."
      ],
      "metadata": {
        "id": "CGYQQChV0lqT"
      }
    },
    {
      "cell_type": "markdown",
      "source": [
        "### 6.Assuming these actions have been implemented, how would you determine if they work?"
      ],
      "metadata": {
        "id": "BRkNJ40SwP5n"
      }
    },
    {
      "cell_type": "markdown",
      "source": [
        "1.Monitor the frequency and content of electronic statements sent by the bank.\n",
        "\n",
        "2.Encourage customers to regularly review their account activity for any discrepancies or unauthorized transactions.\n",
        "\n",
        "3.Maintain a comprehensive log of all payments made, providing a record for verification and comparison purposes."
      ],
      "metadata": {
        "id": "GT36b0141CUY"
      }
    },
    {
      "cell_type": "markdown",
      "source": [
        "1.Request source security: Ensuring the security of request sources.\n",
        "\n",
        "2.Legitimacy of requesting organization's name: Validating the legitimacy of the organization requesting money.\n",
        "\n",
        "3.Vendor transaction history: Analyzing the transaction history of vendors."
      ],
      "metadata": {
        "id": "avdTbF_e0FRo"
      }
    },
    {
      "cell_type": "code",
      "source": [],
      "metadata": {
        "id": "zF0VSsGzwimx"
      },
      "execution_count": 71,
      "outputs": []
    }
  ]
}